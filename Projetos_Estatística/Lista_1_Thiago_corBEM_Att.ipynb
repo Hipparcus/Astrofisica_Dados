{
 "cells": [
  {
   "cell_type": "markdown",
   "metadata": {},
   "source": [
    "## Projeto 1\n",
    "*Thiago Laidler Vidal Cunha*\n",
    "DRE: 118030531"
   ]
  },
  {
   "cell_type": "code",
   "execution_count": 1,
   "metadata": {},
   "outputs": [],
   "source": [
    "import numpy as np\n",
    "import pandas as pd\n",
    "import matplotlib.pyplot as plt\n",
    "import astropy.units as u\n",
    "import math\n",
    "import scipy.stats as stats\n",
    "from tqdm import tqdm \n",
    "import time\n",
    "import multiprocessing as mp\n",
    "from scipy.stats import norm\n",
    "from scipy.stats import poisson\n",
    "from scipy.optimize import curve_fit\n",
    "#import latexify\n",
    "import random\n",
    "import scipy.special as sp"
   ]
  },
  {
   "cell_type": "markdown",
   "metadata": {},
   "source": [
    "**1)** Bruno está se preparando para uma observação e quer avaliar a qualidade dos dados que ele espera observar. Sabemos que a probabilidade de que um número N de fótons atinja o CCD durante uma integração de t segundos pode ser computado a partir de uma distribuição de Poisson. Para o primeiro alvo, sabemos que ele emite fótons a uma taxa de 2 fótons por segundo. Analise e Responda (incluir imagens):\n",
    "\n",
    "    (a) Qual será a curva de distribuição de probabilidade para uma integração de 5 segundos? Adicione o print da curva.\n",
    "    (b) Simule dados randômicos para esta distribuição (size = 10000) e compute qual o valor médio e o desvio padrão destes dados simulados?\n",
    "    (c) Normalizando a curva para que o primeiro momento de variável aleatória se torne 1, qual o valor do desvio padrão desse conjunto após a normalização?\n",
    "    (d) Se aumentarmos o tempo de integração para 7 segundos como o desvio padrão do conjunto após a normalização se comporta? Quão diferente ele se torna?\n",
    "    (e) Qual o tempo de exposição necessários para que o desvio padrão após a normalização seja menor que 0.1?"
   ]
  },
  {
   "cell_type": "markdown",
   "metadata": {},
   "source": [
    "A curva de distribuição de probabilidade para uma integração de 5 segundos será:"
   ]
  },
  {
   "cell_type": "code",
   "execution_count": 2,
   "metadata": {},
   "outputs": [
    {
     "data": {
      "image/png": "[encoded data removed]",
      "text/plain": [
       "<Figure size 720x216 with 1 Axes>"
      ]
     },
     "metadata": {},
     "output_type": "display_data"
    }
   ],
   "source": [
    "time = 5\n",
    "\n",
    "mi = 2 * time\n",
    "\n",
    "n = np.arange(0, mi*2.0, 1.0)\n",
    "\n",
    "pdf = ((mi**n)/(sp.factorial(n)))*np.exp(-mi)\n",
    "\n",
    "plt.figure(figsize=[10, 3], facecolor='white')\n",
    "plt.bar(n, pdf/np.sum(pdf), color='yellow', width=0.8)\n",
    "plt.ylabel('PDF',fontsize=15)\n",
    "plt.xlabel('Fotons no CCD',fontsize=15)\n",
    "plt.yticks(fontsize=15)\n",
    "plt.xticks(fontsize=15)\n",
    "plt.show()"
   ]
  },
  {
   "cell_type": "markdown",
   "metadata": {},
   "source": [
    "• A função de probabilidade p de uma v. a. discreta $X$ é definida por $p(x) = p [X=x]$, para todo x real.\n",
    "\n",
    "Uma variável aleatória (v.a.) é uma função que associa cada elemento de um espaço amostral a um número real. As variáveis aleatórias podem ser **discretas** se os seus valores pertencem a um conjunto enumerável de números reais (usualmente valores inteiros), ou **contínuas** se os seus valores pertencem a um intervalo de números reais. Nesse caso nossa variável aleatória será:\n",
    "\n",
    "$X = $ N de fótons que atingem o CCD durante uma integração de t segundos"
   ]
  },
  {
   "cell_type": "markdown",
   "metadata": {},
   "source": [
    "Para o caso de um fenômeno que se comporta segundo um processo de Poisson com parâmetro $\\lambda$,\n",
    "temos que o número $X$ de ocorrências ao longo de um intervalo de amplitude $t$ será uma variável aleatória discreta, tal que\n",
    "\n",
    "$P[X = k] = \\frac{e^{-\\lambda t}(\\lambda t)^{k}}{k!}$ para k numero inteiro,\n",
    "\n",
    "*se e somente se* o intervalo de tempo T entre quaisquer duas ocorrências consecutivas desse\n",
    "fenômeno for uma variável aleatória contínua que segue uma lei exponencial com parâmetro $\\lambda$, isto é, $P[T<=t] = 1 - e^{-\\lambda t}$, para todo t >O."
   ]
  },
  {
   "cell_type": "markdown",
   "metadata": {},
   "source": [
    "Por isso é possível notar que a v.a. $X$, embora discreta, pode assumir um número infinito de valores."
   ]
  },
  {
   "cell_type": "markdown",
   "metadata": {},
   "source": [
    " - Seguindo o modelo de Poisson, mandamos a máquina criar valores aleatórios que sigam essa distribuição. É de se esperar que siga um formato parecido."
   ]
  },
  {
   "cell_type": "code",
   "execution_count": 3,
   "metadata": {},
   "outputs": [],
   "source": [
    "distribuicao_po = np.random.poisson(lam=mi, size=10000)"
   ]
  },
  {
   "cell_type": "code",
   "execution_count": 4,
   "metadata": {
    "scrolled": true
   },
   "outputs": [
    {
     "data": {
      "image/png": "[encoded data removed]",
      "text/plain": [
       "<Figure size 720x216 with 1 Axes>"
      ]
     },
     "metadata": {},
     "output_type": "display_data"
    }
   ],
   "source": [
    "plt.figure(figsize=[10, 3], facecolor='white')\n",
    "plt.hist(distribuicao_po, bins=n, density=True, align='left', color='m')\n",
    "plt.ylabel('PDF',fontsize=15)\n",
    "plt.xlabel('Fotons no CCD',fontsize=15)\n",
    "plt.show()"
   ]
  },
  {
   "cell_type": "markdown",
   "metadata": {},
   "source": [
    "Abaixo teremos nossos valores de média (mean) e desvio padrão (std)."
   ]
  },
  {
   "cell_type": "code",
   "execution_count": 5,
   "metadata": {},
   "outputs": [
    {
     "data": {
      "text/plain": [
       "count    10000.000000\n",
       "mean         9.941100\n",
       "std          3.159435\n",
       "min          1.000000\n",
       "25%          8.000000\n",
       "50%         10.000000\n",
       "75%         12.000000\n",
       "max         23.000000\n",
       "dtype: float64"
      ]
     },
     "execution_count": 5,
     "metadata": {},
     "output_type": "execute_result"
    }
   ],
   "source": [
    "df_randpoisson = pd.Series(distribuicao_po)\n",
    "df_randpoisson.describe()"
   ]
  },
  {
   "cell_type": "markdown",
   "metadata": {},
   "source": [
    "Aqui foi feito a normalização, ou seja, dividir pela média a fim de que se consiga centralizar a distribuição no valor 1."
   ]
  },
  {
   "cell_type": "code",
   "execution_count": 6,
   "metadata": {},
   "outputs": [
    {
     "data": {
      "text/plain": [
       "count    10000.000000\n",
       "mean         1.000000\n",
       "std          0.317815\n",
       "min          0.100592\n",
       "25%          0.804740\n",
       "50%          1.005925\n",
       "75%          1.207110\n",
       "max          2.313627\n",
       "dtype: float64"
      ]
     },
     "execution_count": 6,
     "metadata": {},
     "output_type": "execute_result"
    }
   ],
   "source": [
    "df_randpoisson_Norm = pd.Series(distribuicao_po/(df_randpoisson.mean()))\n",
    "df_randpoisson_Norm.describe()"
   ]
  },
  {
   "cell_type": "code",
   "execution_count": 7,
   "metadata": {},
   "outputs": [],
   "source": [
    "u = df_randpoisson_Norm.mean()\n",
    "o = df_randpoisson_Norm.std()"
   ]
  },
  {
   "cell_type": "markdown",
   "metadata": {},
   "source": [
    " - Como era de se esperar, o formato não se alterou."
   ]
  },
  {
   "cell_type": "code",
   "execution_count": 8,
   "metadata": {},
   "outputs": [
    {
     "name": "stdout",
     "output_type": "stream",
     "text": [
      "Média : 0.99999999999998\n",
      "Desvio Padrão: 0.3178154245210085\n"
     ]
    },
    {
     "data": {
      "image/png": "[encoded data removed]",
      "text/plain": [
       "<Figure size 720x216 with 1 Axes>"
      ]
     },
     "metadata": {},
     "output_type": "display_data"
    }
   ],
   "source": [
    "plt.figure(figsize=[10, 3], facecolor='white')\n",
    "plt.hist(df_randpoisson_Norm, bins=n/10, density=True, color='m')\n",
    "plt.axvline(+o+u, color='k', linestyle='dotted', linewidth=2)\n",
    "plt.axvline(-o+u, color='k', linestyle='dotted', linewidth=2) \n",
    "plt.axvline(u, color='r', linestyle='dotted', linewidth=2) \n",
    "plt.ylabel('PDF', fontsize=15)\n",
    "plt.xlabel('Fotons no CCD',  fontsize=15)\n",
    "print('Média : '+str(u)+'\\nDesvio Padrão: '+str(o))\n",
    "plt.show()"
   ]
  },
  {
   "cell_type": "markdown",
   "metadata": {},
   "source": [
    "Agora para t = 7 segundos, teremos $\\lambda = 14$:"
   ]
  },
  {
   "cell_type": "code",
   "execution_count": 9,
   "metadata": {},
   "outputs": [
    {
     "data": {
      "text/plain": [
       "count    10000.00000\n",
       "mean        13.99570\n",
       "std          3.72095\n",
       "min          3.00000\n",
       "25%         11.00000\n",
       "50%         14.00000\n",
       "75%         16.00000\n",
       "max         32.00000\n",
       "dtype: float64"
      ]
     },
     "execution_count": 9,
     "metadata": {},
     "output_type": "execute_result"
    }
   ],
   "source": [
    "distribuicao_po = np.random.poisson(lam=14, size=10000) # 7segundos -> mi = 2*time => time = 7s; mi=14\n",
    "df_randpoisson = pd.Series(distribuicao_po)\n",
    "df_randpoisson.describe()"
   ]
  },
  {
   "cell_type": "code",
   "execution_count": 10,
   "metadata": {},
   "outputs": [
    {
     "data": {
      "text/plain": [
       "count    10000.000000\n",
       "mean         1.000000\n",
       "std          0.265864\n",
       "min          0.214352\n",
       "25%          0.785956\n",
       "50%          1.000307\n",
       "75%          1.143208\n",
       "max          2.286417\n",
       "dtype: float64"
      ]
     },
     "execution_count": 10,
     "metadata": {},
     "output_type": "execute_result"
    }
   ],
   "source": [
    "df_randpoisson_Norm = pd.Series(distribuicao_po/(df_randpoisson.mean()))\n",
    "df_randpoisson_Norm.describe()"
   ]
  },
  {
   "cell_type": "code",
   "execution_count": 11,
   "metadata": {},
   "outputs": [],
   "source": [
    "o = df_randpoisson_Norm.std()\n",
    "u = df_randpoisson_Norm.mean()\n",
    "n = np.arange(0, u*2.0, 0.1)"
   ]
  },
  {
   "cell_type": "code",
   "execution_count": 12,
   "metadata": {},
   "outputs": [
    {
     "name": "stdout",
     "output_type": "stream",
     "text": [
      "Média : 1.0000000000000102\n",
      "Desvio Padrão: 0.2658637737008479\n"
     ]
    },
    {
     "data": {
      "image/png": "[encoded data removed]",
      "text/plain": [
       "<Figure size 720x216 with 1 Axes>"
      ]
     },
     "metadata": {},
     "output_type": "display_data"
    }
   ],
   "source": [
    "plt.figure(figsize=[10, 3], facecolor='white')\n",
    "plt.hist(df_randpoisson_Norm, bins=n, density=True, align='left', color='m')\n",
    "plt.axvline(+o+u, color='k', linestyle='dotted', linewidth=2)\n",
    "plt.axvline(-o+u, color='k', linestyle='dotted', linewidth=2) \n",
    "plt.axvline(u, color='r', linestyle='dotted', linewidth=2) \n",
    "plt.ylabel('PDF', fontsize=15)\n",
    "plt.xlabel('Fotons no CCD',  fontsize=15)\n",
    "print('Média : '+str(u)+'\\nDesvio Padrão: '+str(o))\n",
    "plt.show()"
   ]
  },
  {
   "cell_type": "markdown",
   "metadata": {},
   "source": [
    "Percebe-se uma queda do desvio padrão quando aumentamos o tempo de integração. Ou seja, podemos testar vários tempos de integração maiores a fim de obter um limiar em que o desvio fique aceitavelmente baixo."
   ]
  },
  {
   "cell_type": "markdown",
   "metadata": {},
   "source": [
    "A partir de agora nos é conveniente ter uma forma de rodar uma série de tempos (t) diferentes para avaliar quais desvios-padrão conseguimos. Segue minha resolução:"
   ]
  },
  {
   "cell_type": "code",
   "execution_count": 13,
   "metadata": {},
   "outputs": [],
   "source": [
    "def Poisson(time = 5):\n",
    "    '''\n",
    "    funcao que, com base no tempo, cria distribuicao randomica em poisson, normaliza e retorna seu desvio padrao.\n",
    "    '''\n",
    "    mi = 2 * time\n",
    "    distribuicao_po = np.random.poisson(lam=mi, size=10000)\n",
    "    df_randpoisson = pd.Series(distribuicao_po)\n",
    "    df_randpoisson_Norm = pd.Series(distribuicao_po/(df_randpoisson.mean()))\n",
    "    return df_randpoisson_Norm.std()\n",
    "\n",
    "l = []\n",
    "k = []#Indeces em que o desvio padrao é <= 0.1 -> pegar seu minimo é o primeiro indice a entrar nesse intervalo\n",
    "for i in np.arange(0.5,100,0.5):\n",
    "    l.append(Poisson(i))   \n",
    "    if Poisson(i) <= 0.1:\n",
    "        k.append(i)"
   ]
  },
  {
   "cell_type": "code",
   "execution_count": 14,
   "metadata": {},
   "outputs": [
    {
     "name": "stdout",
     "output_type": "stream",
     "text": [
      "A partir de 50.0 segundos de exposicao teremos desvio padrao <= 0.1\n"
     ]
    },
    {
     "data": {
      "image/png": "[encoded data removed]",
      "text/plain": [
       "<Figure size 720x216 with 1 Axes>"
      ]
     },
     "metadata": {},
     "output_type": "display_data"
    }
   ],
   "source": [
    "plt.figure(figsize=[10, 3], facecolor='white')\n",
    "plt.plot(np.arange(0.5,100,0.5),l)\n",
    "plt.ylabel('Desvio Padrao normalizado', fontsize=15)\n",
    "plt.xlabel('Tempo em segundos',  fontsize=15)\n",
    "plt.axhline(0.1, color='r', linestyle='dotted', linewidth=2)\n",
    "print('A partir de '+str(np.min(k))+ ' segundos de exposicao teremos desvio padrao <= 0.1')\n",
    "plt.show()"
   ]
  },
  {
   "cell_type": "code",
   "execution_count": 15,
   "metadata": {},
   "outputs": [
    {
     "name": "stdout",
     "output_type": "stream",
     "text": [
      "A partir de 50.0 segundos de exposicao teremos desvio padrao <= 0.1\n"
     ]
    },
    {
     "data": {
      "image/png": "[encoded data removed]",
      "text/plain": [
       "<Figure size 720x216 with 1 Axes>"
      ]
     },
     "metadata": {},
     "output_type": "display_data"
    }
   ],
   "source": [
    "plt.figure(figsize=[10, 3], facecolor='white')\n",
    "plt.plot(np.arange(0.5,100,0.5),l)\n",
    "plt.ylabel('Desvio Padrao normalizado', fontsize=15)\n",
    "plt.xlabel('Tempo em segundos',  fontsize=15)\n",
    "plt.axhline(0.1, color='r', linestyle='dotted', linewidth=2)\n",
    "plt.axvline(np.min(k), color='k', linestyle='dotted', linewidth=2)\n",
    "plt.xlim(20,60)\n",
    "print('A partir de '+str(np.min(k))+ ' segundos de exposicao teremos desvio padrao <= 0.1')\n",
    "plt.show()"
   ]
  },
  {
   "cell_type": "markdown",
   "metadata": {},
   "source": [
    "2) Após a observação Bruno quer analisar os dados obtidos. Estes dados foram enviados para cada um de vocês (arquivo_1.dat). Analise e Responda:\n",
    "\n",
    "    (a) Nossa primeira análise consiste em comparar o fluxo de duas estrelas que foram medidas simultaneamente em um mesmo conjunto de 100 imagens (coluna 1 e coluna 2 de arquivo_1.dat). Existe correlação entre estas duas estrelas? Qual a probabilidade desta correlação ser real? \n",
    "    \n",
    "  > **Extra**: Consegue pensar em causas lógicas para que essa correlação exista?\n",
    "    \n",
    "    (b) Considerando que na noite anterior Bruno também observou essas duas estrelas em um conjunto de 87 imagens (arquivo_2.dat). Para cada estrela individualmente, qual a probabilidade destes dois conjuntos de dados serem equivalentes (tenham como origem a mesma distribuição)?\n",
    "   \n",
    "    ○ Comparar estrela A arquivo 1, com estrela A arquivo 2.\n",
    "    ○ Comparar estrela B arquivo 1, com estrela B arquivo 2."
   ]
  },
  {
   "cell_type": "markdown",
   "metadata": {},
   "source": [
    "A correlação mede o grau em que dois fenômenos estão relacionados entre si. Duas variáveis tem correlação positiva se uma variação numa delas é associada a uma variação da outra no mesmo sentido, e uma correlação será negativa se o oposto ocorre. Vejamos o gráfico de dispersão entre ambas estrelas assim como suas informações quanto ao fluxo:"
   ]
  },
  {
   "cell_type": "code",
   "execution_count": 16,
   "metadata": {
    "scrolled": true
   },
   "outputs": [
    {
     "data": {
      "text/html": [
       "<div>\n",
       "<style scoped>\n",
       "    .dataframe tbody tr th:only-of-type {\n",
       "        vertical-align: middle;\n",
       "    }\n",
       "\n",
       "    .dataframe tbody tr th {\n",
       "        vertical-align: top;\n",
       "    }\n",
       "\n",
       "    .dataframe thead th {\n",
       "        text-align: right;\n",
       "    }\n",
       "</style>\n",
       "<table border=\"1\" class=\"dataframe\">\n",
       "  <thead>\n",
       "    <tr style=\"text-align: right;\">\n",
       "      <th></th>\n",
       "      <th>Estrela A</th>\n",
       "      <th>Estrela B</th>\n",
       "    </tr>\n",
       "  </thead>\n",
       "  <tbody>\n",
       "    <tr>\n",
       "      <th>0</th>\n",
       "      <td>122.079795</td>\n",
       "      <td>201.685896</td>\n",
       "    </tr>\n",
       "    <tr>\n",
       "      <th>1</th>\n",
       "      <td>163.475675</td>\n",
       "      <td>236.247474</td>\n",
       "    </tr>\n",
       "    <tr>\n",
       "      <th>2</th>\n",
       "      <td>164.771890</td>\n",
       "      <td>262.338923</td>\n",
       "    </tr>\n",
       "    <tr>\n",
       "      <th>3</th>\n",
       "      <td>102.591294</td>\n",
       "      <td>219.202813</td>\n",
       "    </tr>\n",
       "    <tr>\n",
       "      <th>4</th>\n",
       "      <td>142.315420</td>\n",
       "      <td>201.342672</td>\n",
       "    </tr>\n",
       "    <tr>\n",
       "      <th>...</th>\n",
       "      <td>...</td>\n",
       "      <td>...</td>\n",
       "    </tr>\n",
       "    <tr>\n",
       "      <th>95</th>\n",
       "      <td>185.702359</td>\n",
       "      <td>208.166159</td>\n",
       "    </tr>\n",
       "    <tr>\n",
       "      <th>96</th>\n",
       "      <td>152.542339</td>\n",
       "      <td>189.762820</td>\n",
       "    </tr>\n",
       "    <tr>\n",
       "      <th>97</th>\n",
       "      <td>112.954982</td>\n",
       "      <td>181.576566</td>\n",
       "    </tr>\n",
       "    <tr>\n",
       "      <th>98</th>\n",
       "      <td>152.421731</td>\n",
       "      <td>220.583227</td>\n",
       "    </tr>\n",
       "    <tr>\n",
       "      <th>99</th>\n",
       "      <td>125.112070</td>\n",
       "      <td>251.549656</td>\n",
       "    </tr>\n",
       "  </tbody>\n",
       "</table>\n",
       "<p>100 rows × 2 columns</p>\n",
       "</div>"
      ],
      "text/plain": [
       "     Estrela A   Estrela B\n",
       "0   122.079795  201.685896\n",
       "1   163.475675  236.247474\n",
       "2   164.771890  262.338923\n",
       "3   102.591294  219.202813\n",
       "4   142.315420  201.342672\n",
       "..         ...         ...\n",
       "95  185.702359  208.166159\n",
       "96  152.542339  189.762820\n",
       "97  112.954982  181.576566\n",
       "98  152.421731  220.583227\n",
       "99  125.112070  251.549656\n",
       "\n",
       "[100 rows x 2 columns]"
      ]
     },
     "execution_count": 16,
     "metadata": {},
     "output_type": "execute_result"
    }
   ],
   "source": [
    "df_1 = pd.read_csv('arquivo_1.dat', header = 1, delim_whitespace=True) #Data Frame da primeira observação\n",
    "df_1 = pd.DataFrame(data = df_1.values,columns = ['Estrela A', 'Estrela B'])\n",
    "df_1"
   ]
  },
  {
   "cell_type": "code",
   "execution_count": 17,
   "metadata": {},
   "outputs": [
    {
     "data": {
      "image/png": "[encoded data removed]",
      "text/plain": [
       "<Figure size 720x504 with 1 Axes>"
      ]
     },
     "metadata": {
      "needs_background": "light"
     },
     "output_type": "display_data"
    }
   ],
   "source": [
    "plt.figure(figsize = [10,7])\n",
    "plt.title('Gráfico de dispersão entre fluxos da estrela A e B')\n",
    "plt.plot(df_1['Estrela A'], df_1['Estrela B'],'m.') \n",
    "plt.show()"
   ]
  },
  {
   "cell_type": "code",
   "execution_count": 18,
   "metadata": {},
   "outputs": [
    {
     "data": {
      "text/html": [
       "<div>\n",
       "<style scoped>\n",
       "    .dataframe tbody tr th:only-of-type {\n",
       "        vertical-align: middle;\n",
       "    }\n",
       "\n",
       "    .dataframe tbody tr th {\n",
       "        vertical-align: top;\n",
       "    }\n",
       "\n",
       "    .dataframe thead th {\n",
       "        text-align: right;\n",
       "    }\n",
       "</style>\n",
       "<table border=\"1\" class=\"dataframe\">\n",
       "  <thead>\n",
       "    <tr style=\"text-align: right;\">\n",
       "      <th></th>\n",
       "      <th>Estrela A</th>\n",
       "      <th>Estrela B</th>\n",
       "    </tr>\n",
       "  </thead>\n",
       "  <tbody>\n",
       "    <tr>\n",
       "      <th>count</th>\n",
       "      <td>100.000000</td>\n",
       "      <td>100.000000</td>\n",
       "    </tr>\n",
       "    <tr>\n",
       "      <th>mean</th>\n",
       "      <td>138.989146</td>\n",
       "      <td>201.541003</td>\n",
       "    </tr>\n",
       "    <tr>\n",
       "      <th>std</th>\n",
       "      <td>25.414835</td>\n",
       "      <td>26.192340</td>\n",
       "    </tr>\n",
       "    <tr>\n",
       "      <th>min</th>\n",
       "      <td>71.011480</td>\n",
       "      <td>132.826179</td>\n",
       "    </tr>\n",
       "    <tr>\n",
       "      <th>25%</th>\n",
       "      <td>124.417016</td>\n",
       "      <td>184.757203</td>\n",
       "    </tr>\n",
       "    <tr>\n",
       "      <th>50%</th>\n",
       "      <td>139.690902</td>\n",
       "      <td>203.802690</td>\n",
       "    </tr>\n",
       "    <tr>\n",
       "      <th>75%</th>\n",
       "      <td>156.359194</td>\n",
       "      <td>219.714019</td>\n",
       "    </tr>\n",
       "    <tr>\n",
       "      <th>max</th>\n",
       "      <td>201.424672</td>\n",
       "      <td>262.348418</td>\n",
       "    </tr>\n",
       "  </tbody>\n",
       "</table>\n",
       "</div>"
      ],
      "text/plain": [
       "        Estrela A   Estrela B\n",
       "count  100.000000  100.000000\n",
       "mean   138.989146  201.541003\n",
       "std     25.414835   26.192340\n",
       "min     71.011480  132.826179\n",
       "25%    124.417016  184.757203\n",
       "50%    139.690902  203.802690\n",
       "75%    156.359194  219.714019\n",
       "max    201.424672  262.348418"
      ]
     },
     "execution_count": 18,
     "metadata": {},
     "output_type": "execute_result"
    }
   ],
   "source": [
    "df_1.describe()"
   ]
  },
  {
   "cell_type": "markdown",
   "metadata": {},
   "source": [
    "<font color='red'> (BEM: Atenção a linguagem.)</font>\n",
    "<font color='blue'> (My bad)</font>\n",
    "\n",
    "Observamos que trabalhar com um padrão constituido de pontos dispersos numa tela é um tanto inconveniente. Em vez disso, podemos utilizar o poder da correlação como ferramenta estatística para encapsular uma associação entre duas variáveis numa única estatística descritiva: **O coeficiente de correlação**.\n",
    "\n",
    "\n",
    "Este coeficiente se trata de um número único que varia de -1 a +1. Uma correlação de 1 será uma correlação perfeita, enquanto -1 será uma correlação perfeitamente inversa. Quanto mais proximo de 1 ou -1, mais forte a associação. Para esse caso usarei *Coeficiente de Kendall*, $τ$, que mede o como uma variável aumenta enquanto outra variável também aumenta, sem exigir que o aumento seja representado por uma relação linear."
   ]
  },
  {
   "cell_type": "markdown",
   "metadata": {},
   "source": [
    "> **OBS:** Uma característica atraente do coeficiente de correlação é que ele não está ligado a nenhuma unidade. Podemos calcular a correlação entre altura e peso - mesmo que a altura seja medida em centímetros e o peso em quilogramas."
   ]
  },
  {
   "cell_type": "code",
   "execution_count": 19,
   "metadata": {
    "scrolled": true
   },
   "outputs": [
    {
     "name": "stderr",
     "output_type": "stream",
     "text": [
      "100%|██████████| 100/100 [00:01<00:00, 85.27it/s]\n",
      "100%|██████████| 100/100 [00:01<00:00, 83.14it/s]\n"
     ]
    },
    {
     "data": {
      "text/plain": [
       "0.09898989898989899"
      ]
     },
     "execution_count": 19,
     "metadata": {},
     "output_type": "execute_result"
    }
   ],
   "source": [
    "#Coef Kendall\n",
    "x = df_1['Estrela A']\n",
    "y = df_1['Estrela B']\n",
    "\n",
    "def pares(x,y):\n",
    "    '''\n",
    "    retorna o numero de concordantes e discordantes nessa ordem\n",
    "    '''\n",
    "    concord = 0.\n",
    "    disc = 0.\n",
    "    for i in tqdm(range(len(x))):\n",
    "        for j in range(i,len(x)):\n",
    "            if (x[i]-x[j])*(y[i]-y[j]) > 0:\n",
    "                concord = concord+1\n",
    "            elif (x[i]-x[j])*(y[i]-y[j]) < 0:\n",
    "                disc = disc+1\n",
    "    return concord,disc\n",
    "                \n",
    "N = len(x)                \n",
    "\n",
    "tau = float(2*((pares(x,y)[0] - pares(x,y)[1])/(N*(N-1))))\n",
    "tau"
   ]
  },
  {
   "cell_type": "markdown",
   "metadata": {},
   "source": [
    "Ou seja, temos uma correlação muito fraca (é considerado uma correlação forte a partir de $\\tau = 0.7$)."
   ]
  },
  {
   "cell_type": "markdown",
   "metadata": {},
   "source": [
    " - Podemos chegar no mesmo resultado economizando algumas linhas de código:"
   ]
  },
  {
   "cell_type": "code",
   "execution_count": 20,
   "metadata": {},
   "outputs": [],
   "source": [
    "x_1 = df_1['Estrela A']\n",
    "y_1 = df_1['Estrela B']"
   ]
  },
  {
   "cell_type": "code",
   "execution_count": 21,
   "metadata": {},
   "outputs": [
    {
     "name": "stdout",
     "output_type": "stream",
     "text": [
      "tau = 0.098989898989899\n",
      "A probabilidade de haver correlacao: 0.8555111790224474\n"
     ]
    }
   ],
   "source": [
    "tau_11, p_value_11 = stats.kendalltau(x_1,y_1)\n",
    "print('tau = '+str(tau_11)) #Conferir resultado de tau.\n",
    "print('A probabilidade de haver correlacao: '+str(1 - p_value_11)) #Probabilidade alta, mesmo c correlação baixa"
   ]
  },
  {
   "cell_type": "markdown",
   "metadata": {},
   "source": [
    "A partir daqui se faz necessário explorar a inferência estatística e uma de suas ferramentas mais famosas, o **teste de hipóteses.**\n",
    "\n",
    " A estatística por sí só não prova nada; em vez disso, usamos inferência para aceitar ou rejeitar explicações com base na sua relativa probabilidade. Qualquer inferência estatística começa com uma hipótese nula implícita ou explícita. Essa é nossa premissa de partida, que será rejeitada ou não com base na nossa análise subsequente. \n",
    " \n",
    " Se rejeitamos a *hipótese nula*, então geralmente aceitamos alguma hipótese alternativa que seja mais consistente com os dados observados. \n",
    " \n",
    " > Por exemplo, no tribunal a hipótese nula H0 é a de que o réu é inocente.\n",
    " \n",
    "Geralmente queremos provar a *Hipótese alternativa* **H1**, enquanto batemos na *Hipótese nula* **H0**. Note que a hipótese nula e a hipótese alternativa são completamente lógicas e, se uma é verdadeira, a outra não é. Se rejeitamos uma afirmação, devemos aceitar a outra.\n",
    "\n",
    "> Nem sempre provamos a H0, podendo significar apenas que H1 está equivocada ou que as hipóteses não servem para o grupo de dados escolhidos. Em todo caso, é mais seguro afirmar apenas que, *com base nos dados coletados, meramente falhamos em rejeitar H0*."
   ]
  },
  {
   "cell_type": "markdown",
   "metadata": {},
   "source": [
    "Geralmente usamos o valor de 5% como limiar mais comum utilizado nas inferências estatísticas. Essa probabilidade é conhecida como *nível de significância* e representa o limite superior para a probabilidade de observação de algum padrão de dados se a hipótese nula fosse verdadeira. Ou seja, podemos rejeitar **H0** no nivel 0.05 se houver uma chance menor do que 5% de obter um resultado no mínimo tão extremo quanto o que observamos se a hipótese nula fosse verdadeira. \n",
    "\n",
    "Em outras palavras, se a chance de **H0** ser verdadeira, seguindo os dados coletados, for de 5% ou menos, rejeitaremos ela e aceitaremos **H1**."
   ]
  },
  {
   "cell_type": "markdown",
   "metadata": {},
   "source": [
    "- Quanto a comparação da estrela A e B da mesma observação:\n",
    "\n",
    "**H0** : pertencem a mesma distribuição.\n",
    "**H1** : são objetos totalmente distintos.\n",
    "\n",
    "Queremos 5% seja a probabilidade dos nossos dados serem referentes ao **H0** caso ela seja verdadeira, importante definir isso previamente para que não haja viés.\n",
    "\n",
    "Se não chegarmos nesse valor, não poderemos afirmar que **H0** é mentira (lembre do que discutimos antes). \n",
    "Ou seja, se os dados se referem a **H0** em apenas 5% ou menos das vezes, ja assumimos que **H1** estará correto. Se as hipóteses foram bem construídas (ou é uma, ou é outra), nossa decisão estará correta em 95% das vezes.\n"
   ]
  },
  {
   "cell_type": "markdown",
   "metadata": {},
   "source": [
    "> O que chamaremos de *p_value* é a probabilidade específica de obter um resultado no mínimo tão extremo quanto o observado caso **H0** fosse verdadeira."
   ]
  },
  {
   "cell_type": "markdown",
   "metadata": {},
   "source": [
    " - Sabendo disso, podemos fazer o mesmo teste que fizemos anteriormente com os dados da segunda observação, utilizando as hipóteses **H0** (há correlação) e **H1**(não há correlação):"
   ]
  },
  {
   "cell_type": "code",
   "execution_count": 22,
   "metadata": {
    "scrolled": true
   },
   "outputs": [
    {
     "data": {
      "text/html": [
       "<div>\n",
       "<style scoped>\n",
       "    .dataframe tbody tr th:only-of-type {\n",
       "        vertical-align: middle;\n",
       "    }\n",
       "\n",
       "    .dataframe tbody tr th {\n",
       "        vertical-align: top;\n",
       "    }\n",
       "\n",
       "    .dataframe thead th {\n",
       "        text-align: right;\n",
       "    }\n",
       "</style>\n",
       "<table border=\"1\" class=\"dataframe\">\n",
       "  <thead>\n",
       "    <tr style=\"text-align: right;\">\n",
       "      <th></th>\n",
       "      <th>Estrela A</th>\n",
       "      <th>Estrela B</th>\n",
       "    </tr>\n",
       "  </thead>\n",
       "  <tbody>\n",
       "    <tr>\n",
       "      <th>0</th>\n",
       "      <td>158.852587</td>\n",
       "      <td>158.041555</td>\n",
       "    </tr>\n",
       "    <tr>\n",
       "      <th>1</th>\n",
       "      <td>136.321944</td>\n",
       "      <td>177.979711</td>\n",
       "    </tr>\n",
       "    <tr>\n",
       "      <th>2</th>\n",
       "      <td>120.431295</td>\n",
       "      <td>207.329928</td>\n",
       "    </tr>\n",
       "    <tr>\n",
       "      <th>3</th>\n",
       "      <td>159.699529</td>\n",
       "      <td>223.032610</td>\n",
       "    </tr>\n",
       "    <tr>\n",
       "      <th>4</th>\n",
       "      <td>125.546134</td>\n",
       "      <td>222.161992</td>\n",
       "    </tr>\n",
       "    <tr>\n",
       "      <th>...</th>\n",
       "      <td>...</td>\n",
       "      <td>...</td>\n",
       "    </tr>\n",
       "    <tr>\n",
       "      <th>82</th>\n",
       "      <td>118.143370</td>\n",
       "      <td>202.691807</td>\n",
       "    </tr>\n",
       "    <tr>\n",
       "      <th>83</th>\n",
       "      <td>133.621132</td>\n",
       "      <td>230.530091</td>\n",
       "    </tr>\n",
       "    <tr>\n",
       "      <th>84</th>\n",
       "      <td>153.095538</td>\n",
       "      <td>216.275956</td>\n",
       "    </tr>\n",
       "    <tr>\n",
       "      <th>85</th>\n",
       "      <td>140.627839</td>\n",
       "      <td>247.126830</td>\n",
       "    </tr>\n",
       "    <tr>\n",
       "      <th>86</th>\n",
       "      <td>136.248209</td>\n",
       "      <td>174.888926</td>\n",
       "    </tr>\n",
       "  </tbody>\n",
       "</table>\n",
       "<p>87 rows × 2 columns</p>\n",
       "</div>"
      ],
      "text/plain": [
       "     Estrela A   Estrela B\n",
       "0   158.852587  158.041555\n",
       "1   136.321944  177.979711\n",
       "2   120.431295  207.329928\n",
       "3   159.699529  223.032610\n",
       "4   125.546134  222.161992\n",
       "..         ...         ...\n",
       "82  118.143370  202.691807\n",
       "83  133.621132  230.530091\n",
       "84  153.095538  216.275956\n",
       "85  140.627839  247.126830\n",
       "86  136.248209  174.888926\n",
       "\n",
       "[87 rows x 2 columns]"
      ]
     },
     "execution_count": 22,
     "metadata": {},
     "output_type": "execute_result"
    }
   ],
   "source": [
    "df_2 = pd.read_csv('arquivo_2.dat', header = 1, delim_whitespace=True) #Data Frame da segunda observação\n",
    "df_2 = pd.DataFrame(data = df_2.values,columns = ['Estrela A', 'Estrela B'])\n",
    "df_2"
   ]
  },
  {
   "cell_type": "code",
   "execution_count": 23,
   "metadata": {},
   "outputs": [
    {
     "data": {
      "text/html": [
       "<div>\n",
       "<style scoped>\n",
       "    .dataframe tbody tr th:only-of-type {\n",
       "        vertical-align: middle;\n",
       "    }\n",
       "\n",
       "    .dataframe tbody tr th {\n",
       "        vertical-align: top;\n",
       "    }\n",
       "\n",
       "    .dataframe thead th {\n",
       "        text-align: right;\n",
       "    }\n",
       "</style>\n",
       "<table border=\"1\" class=\"dataframe\">\n",
       "  <thead>\n",
       "    <tr style=\"text-align: right;\">\n",
       "      <th></th>\n",
       "      <th>Estrela A</th>\n",
       "      <th>Estrela B</th>\n",
       "    </tr>\n",
       "  </thead>\n",
       "  <tbody>\n",
       "    <tr>\n",
       "      <th>count</th>\n",
       "      <td>87.000000</td>\n",
       "      <td>87.000000</td>\n",
       "    </tr>\n",
       "    <tr>\n",
       "      <th>mean</th>\n",
       "      <td>132.255606</td>\n",
       "      <td>194.484118</td>\n",
       "    </tr>\n",
       "    <tr>\n",
       "      <th>std</th>\n",
       "      <td>26.561849</td>\n",
       "      <td>24.340571</td>\n",
       "    </tr>\n",
       "    <tr>\n",
       "      <th>min</th>\n",
       "      <td>62.577636</td>\n",
       "      <td>143.982292</td>\n",
       "    </tr>\n",
       "    <tr>\n",
       "      <th>25%</th>\n",
       "      <td>117.814211</td>\n",
       "      <td>176.610733</td>\n",
       "    </tr>\n",
       "    <tr>\n",
       "      <th>50%</th>\n",
       "      <td>134.793448</td>\n",
       "      <td>196.219248</td>\n",
       "    </tr>\n",
       "    <tr>\n",
       "      <th>75%</th>\n",
       "      <td>151.544973</td>\n",
       "      <td>207.845813</td>\n",
       "    </tr>\n",
       "    <tr>\n",
       "      <th>max</th>\n",
       "      <td>182.074902</td>\n",
       "      <td>256.714477</td>\n",
       "    </tr>\n",
       "  </tbody>\n",
       "</table>\n",
       "</div>"
      ],
      "text/plain": [
       "        Estrela A   Estrela B\n",
       "count   87.000000   87.000000\n",
       "mean   132.255606  194.484118\n",
       "std     26.561849   24.340571\n",
       "min     62.577636  143.982292\n",
       "25%    117.814211  176.610733\n",
       "50%    134.793448  196.219248\n",
       "75%    151.544973  207.845813\n",
       "max    182.074902  256.714477"
      ]
     },
     "execution_count": 23,
     "metadata": {},
     "output_type": "execute_result"
    }
   ],
   "source": [
    "df_2.describe()"
   ]
  },
  {
   "cell_type": "code",
   "execution_count": 24,
   "metadata": {
    "scrolled": true
   },
   "outputs": [
    {
     "name": "stdout",
     "output_type": "stream",
     "text": [
      "tau = 0.07297514033680833\n",
      "A probabilidade de nao haver correlacao (H0 rejeitada): 0.6830945818907175\n"
     ]
    }
   ],
   "source": [
    "x_2= df_2['Estrela A']\n",
    "y_2=df_2['Estrela B']\n",
    "tau_22, p_value_22 = stats.kendalltau(x_2,y_2)\n",
    "print('tau = '+str(tau_22))\n",
    "print('A probabilidade de nao haver correlacao (H0 rejeitada): '+str(1 - p_value_22))"
   ]
  },
  {
   "cell_type": "markdown",
   "metadata": {},
   "source": [
    "Ou seja, percebemos baixa correlação entre as estrelas A e B de ambas as observações, provavelmente por se tratar de duas estrelas diferentes. A probabilidade de ter alguma correlação sendo:"
   ]
  },
  {
   "cell_type": "code",
   "execution_count": 25,
   "metadata": {},
   "outputs": [
    {
     "name": "stdout",
     "output_type": "stream",
     "text": [
      "0.14448882097755258 0.3169054181092825\n"
     ]
    }
   ],
   "source": [
    "print(p_value_11,p_value_22)"
   ]
  },
  {
   "cell_type": "markdown",
   "metadata": {},
   "source": [
    "A maior correlação para o caso da segunda observação pode se dar pelo fato de haver sido captado algum fenômeno atmosférico que tenha afetado ambas estrelas (por exemplo, passagem de nuvens que as ofuscam de forma equivalente), ou algum ruído do instrumento. "
   ]
  },
  {
   "cell_type": "markdown",
   "metadata": {},
   "source": [
    "No geral, não é difícil supor que haja alguma correlação, mesmo que pequena, tendo em vista que são observações feitas na mesma hora, com o mesmo instrumento e no mesmo lugar."
   ]
  },
  {
   "cell_type": "markdown",
   "metadata": {},
   "source": [
    " - **t-student** e **f-test**:"
   ]
  },
  {
   "cell_type": "markdown",
   "metadata": {},
   "source": [
    "  A *distribuição t de Student* é uma distribuição de probabilidade absolutamente contínua e simétrica, que nos servirá para comparar a média dos dados coletados (que segue distribuição Normal) numa hipótese inicial (**H0**). Funciona mesmo em casos em que não se sabe qual é a média ou o desvio padrão da população, contanto que ela seja normal. \n",
    "\n",
    "   Um *teste F* é qualquer teste estatístico no qual a estatística de teste tem uma distribuição F (uma distribuição de probabilidade contínua) sob a hipótese nula, baseando-se na sua variancia. É mais frequentemente usado ao comparar modelos estatísticos que foram ajustados a um conjunto de dados, a fim de identificar o modelo que melhor se ajusta à população da qual os dados foram amostrados. Por exemplo, este teste é util para estudar a hipótese de que as médias de um determinado conjunto de populações normalmente distribuídas, todas com o mesmo desvio padrão, são iguais, por meio da análise de *variância*. "
   ]
  },
  {
   "cell_type": "code",
   "execution_count": 26,
   "metadata": {},
   "outputs": [],
   "source": [
    "def tstudent(x,y):\n",
    "    '''\n",
    "    recebe dois data frames e retorna o valor do t e o grau de liberdade\n",
    "    '''\n",
    "    ux = x.mean()\n",
    "    uy = y.mean()\n",
    "    n = len(x)\n",
    "    m = len(y)\n",
    "    v = n + m - 2 ##nesse caso estamos comparando apenas dois tipos de dados, entao nosso grau de liberdade terá - dois\n",
    "    s = np.sqrt((n*(x.std()**2) + m*(y.std()**2))/v)\n",
    "    return (ux - uy)/(s*np.sqrt(m**(-1) + n**(-1))),v\n",
    "\n",
    "def f_test(x,y):\n",
    "    '''\n",
    "    recebe dois data frames e retorna o valor do f e os graus de liberdade de x e y (nessa ordem)\n",
    "    '''\n",
    "    ux = x.mean()\n",
    "    uy = y.mean()\n",
    "    n = len(x)\n",
    "    m = len(y)\n",
    "    return (x.std()**2)/(y.std()**2),n-1,m-1"
   ]
  },
  {
   "cell_type": "code",
   "execution_count": 27,
   "metadata": {},
   "outputs": [
    {
     "data": {
      "text/plain": [
       "(1.760070089405873, 185)"
      ]
     },
     "execution_count": 27,
     "metadata": {},
     "output_type": "execute_result"
    }
   ],
   "source": [
    "#Comparando A1 e A2\n",
    "tstudent(x_1,x_2)"
   ]
  },
  {
   "cell_type": "code",
   "execution_count": 28,
   "metadata": {},
   "outputs": [
    {
     "data": {
      "text/plain": [
       "1.9728699462074988"
      ]
     },
     "execution_count": 28,
     "metadata": {},
     "output_type": "execute_result"
    }
   ],
   "source": [
    "t_dist = np.linspace(-5,+5,1000)\n",
    "prob = stats.t.pdf(x= t_dist, df=tstudent(x_1,x_2)[1])\n",
    "stats.t.ppf(1-0.05/2,df=tstudent(x_1,x_2)[1])"
   ]
  },
  {
   "cell_type": "markdown",
   "metadata": {},
   "source": [
    " - Sabendo que os valores da tabela t-student são:\n",
    " \n",
    " \n",
    "**(Unicaudal)** Pegando 5% apenas do *lado esquerdo*:\n",
    "\n",
    "<code>stats.t.ppf(0.05,df=tstudent(x_1,x_2)[1])</code>\n",
    "\n",
    "**(Unicaudal)** Pegando 5% apenas do *lado direito*:\n",
    "\n",
    "<code>stats.t.ppf(1 - 0.05, df=tstudent(x_1,x_2)[1])</code>\n",
    "\n",
    "**(Bicaudal)** Pegando 5% somando-se *ambos os extremos*:\n",
    "\n",
    "<code>stats.t.ppf((1 - 0.05)/2,df=tstudent(x_1,x_2)[1])</code>"
   ]
  },
  {
   "cell_type": "code",
   "execution_count": 29,
   "metadata": {},
   "outputs": [
    {
     "data": {
      "image/png": "[encoded data removed]",
      "text/plain": [
       "<Figure size 720x504 with 1 Axes>"
      ]
     },
     "metadata": {
      "needs_background": "light"
     },
     "output_type": "display_data"
    }
   ],
   "source": [
    "plt.figure(figsize = [10,7])\n",
    "plt.title('t-Student para estrelas A')\n",
    "plt.plot(t_dist,prob,'k')\n",
    "plt.axvline(tstudent(x_1,x_2)[0], color='r', linestyle='dotted', linewidth=2) \n",
    "plt.axvline(stats.t.ppf(1-0.05/2,df=tstudent(x_1,x_2)[1]), color='k', linestyle='dotted', linewidth=2) \n",
    "plt.axvline(-stats.t.ppf(1-0.05/2,df=tstudent(x_1,x_2)[1]), color='k', linestyle='dotted', linewidth=2) \n",
    "plt.show()"
   ]
  },
  {
   "cell_type": "markdown",
   "metadata": {},
   "source": [
    " - **H0** não pode ser rejeitada seguindo nosso nivel de significancia. Isso significa que suas MÉDIAS sao equivalentes e, portanto, devem pertencer a mesma distribuição. Em outras palavras, isso significa que o fluxo médio das estrelas A1 e A2 cai numa faixa que esperaríamos observar 95 vezes em cem num universo que **H0** seja verdadeira. \n",
    " \n",
    " > Se caísse na faixa vista apenas 5 em cem vezes, consideraríamos **H1** correta e descartaríamos **H0**, nesse caso, em média, 95 das vezes em cem estaríamos rejeitando **H0** de forma correta."
   ]
  },
  {
   "cell_type": "markdown",
   "metadata": {},
   "source": [
    " - A mesma análise com a observação da Estrela B:"
   ]
  },
  {
   "cell_type": "code",
   "execution_count": 30,
   "metadata": {},
   "outputs": [
    {
     "data": {
      "text/plain": [
       "(1.8887702755072446, 185)"
      ]
     },
     "execution_count": 30,
     "metadata": {},
     "output_type": "execute_result"
    }
   ],
   "source": [
    "#Comparando B1 e B2\n",
    "tstudent(y_1,y_2)"
   ]
  },
  {
   "cell_type": "code",
   "execution_count": 31,
   "metadata": {},
   "outputs": [],
   "source": [
    "t_dist = np.linspace(-5,+5,1000)\n",
    "prob = stats.t.pdf(x= t_dist, df=tstudent(y_1,y_2)[1])"
   ]
  },
  {
   "cell_type": "code",
   "execution_count": 32,
   "metadata": {},
   "outputs": [
    {
     "data": {
      "image/png": "[encoded data removed]",
      "text/plain": [
       "<Figure size 720x504 with 1 Axes>"
      ]
     },
     "metadata": {
      "needs_background": "light"
     },
     "output_type": "display_data"
    }
   ],
   "source": [
    "plt.figure(figsize = [10,7])\n",
    "plt.title('t-Student para estrelas B')\n",
    "plt.plot(t_dist,prob,'k')\n",
    "plt.axvline(tstudent(y_1,y_2)[0], color='r', linestyle='dotted', linewidth=2) \n",
    "plt.axvline(stats.t.ppf(1-0.05/2,df=tstudent(y_1,y_2)[1]), color='k', linestyle='dotted', linewidth=2) \n",
    "plt.axvline(-stats.t.ppf(1-0.05/2,df=tstudent(y_1,y_2)[1]), color='k', linestyle='dotted', linewidth=2) \n",
    "plt.show()"
   ]
  },
  {
   "cell_type": "markdown",
   "metadata": {},
   "source": [
    " - **H0** novamente não pode ser rejeitada. Isso pois suas MÉDIAS sao equivalentes e, portanto, devem pertencer a mesma distribuição."
   ]
  },
  {
   "cell_type": "markdown",
   "metadata": {},
   "source": [
    "Agora iremos fazer o teste F para levarmos em consideração a variancia dos nossos dados."
   ]
  },
  {
   "cell_type": "code",
   "execution_count": 33,
   "metadata": {},
   "outputs": [
    {
     "data": {
      "text/plain": [
       "(0.915499287644621, 99, 86)"
      ]
     },
     "execution_count": 33,
     "metadata": {},
     "output_type": "execute_result"
    }
   ],
   "source": [
    "f_test(x_1,x_2)"
   ]
  },
  {
   "cell_type": "code",
   "execution_count": 34,
   "metadata": {},
   "outputs": [],
   "source": [
    "f_dist = np.linspace(-5,+5,1000)\n",
    "prob = stats.f.pdf(x= t_dist, dfn=f_test(x_1,x_2)[1],dfd=f_test(x_1,x_2)[2])"
   ]
  },
  {
   "cell_type": "code",
   "execution_count": 35,
   "metadata": {},
   "outputs": [
    {
     "data": {
      "image/png": "[encoded data removed]",
      "text/plain": [
       "<Figure size 720x504 with 1 Axes>"
      ]
     },
     "metadata": {
      "needs_background": "light"
     },
     "output_type": "display_data"
    }
   ],
   "source": [
    "plt.figure(figsize = [10,7])\n",
    "plt.title('f-Test para estrelas A')\n",
    "plt.plot(f_dist,prob,'k')\n",
    "plt.axvline(f_test(x_1,x_2)[0], color='r', linestyle='dotted', linewidth=2) \n",
    "plt.axvline(stats.f.ppf(0.05,dfn=f_test(x_1,x_2)[1],dfd=f_test(x_1,x_2)[2]), color='k', linestyle='dotted', linewidth=2) \n",
    "plt.axvline(stats.f.ppf(1-0.05,dfn=f_test(x_1,x_2)[1],dfd=f_test(x_1,x_2)[2]), color='k', linestyle='dotted', linewidth=2) \n",
    "plt.xlim(0,2)\n",
    "plt.show()"
   ]
  },
  {
   "cell_type": "markdown",
   "metadata": {},
   "source": [
    " - **H0** novamente não pode ser rejeitada. Isso pois suas VARIÂNCIAS sao equivalentes e, portanto, devem pertencer a mesma distribuição."
   ]
  },
  {
   "cell_type": "code",
   "execution_count": 36,
   "metadata": {},
   "outputs": [
    {
     "data": {
      "text/plain": [
       "(1.1579427820586021, 99, 86)"
      ]
     },
     "execution_count": 36,
     "metadata": {},
     "output_type": "execute_result"
    }
   ],
   "source": [
    "f_test(y_1,y_2)"
   ]
  },
  {
   "cell_type": "code",
   "execution_count": 37,
   "metadata": {},
   "outputs": [],
   "source": [
    "f_dist = np.linspace(-5,+5,1000)\n",
    "prob = stats.f.pdf(x= t_dist, dfn=f_test(y_1,x_2)[1],dfd=f_test(y_1,y_2)[2])"
   ]
  },
  {
   "cell_type": "code",
   "execution_count": 38,
   "metadata": {},
   "outputs": [
    {
     "data": {
      "image/png": "[encoded data removed]",
      "text/plain": [
       "<Figure size 720x504 with 1 Axes>"
      ]
     },
     "metadata": {
      "needs_background": "light"
     },
     "output_type": "display_data"
    }
   ],
   "source": [
    "plt.figure(figsize = [10,7])\n",
    "plt.title('f-Test para estrelas A')\n",
    "plt.plot(f_dist,prob,'k')\n",
    "plt.axvline(f_test(y_1,y_2)[0], color='r', linestyle='dotted', linewidth=2) \n",
    "plt.axvline(stats.f.ppf(0.05,dfn=f_test(y_1,y_2)[1],dfd=f_test(y_1,y_2)[2]), color='k', linestyle='dotted', linewidth=2) \n",
    "plt.axvline(stats.f.ppf(1-0.05,dfn=f_test(y_1,y_2)[1],dfd=f_test(y_1,y_2)[2]), color='k', linestyle='dotted', linewidth=2) \n",
    "plt.xlim(0,2)\n",
    "plt.show()"
   ]
  },
  {
   "cell_type": "markdown",
   "metadata": {},
   "source": [
    " - **H0** novamente não pode ser rejeitada. Isso pois suas VARIÂNCIAS sao equivalentes e, portanto, devem pertencer a mesma distribuição."
   ]
  },
  {
   "cell_type": "markdown",
   "metadata": {},
   "source": [
    " - E afinal, qual a probabilidade destes dois conjuntos de dados serem equivalentes (tenham como origem a mesma distribuição)? "
   ]
  },
  {
   "cell_type": "markdown",
   "metadata": {},
   "source": [
    "Sabemos que os dados coletados estão dentro do universo **H0**. Ou seja, partindo que **H0** é verdadeiro (as estrelas observadas fazem parte da mesma distribuição), nossos dados concordam com a maioria das outras amostras que viriam da mesma distribuicao. Portanto, podemos afirmar com **95% de certeza** que os dados coletados *vem da mesma distribuição*.\n",
    "> *Perceba que nesse caso as hipóteses foram escolhidas tal que 'ou elas pertencem ou não pertencem', e, seguindo as amostras coletadas, há 95% de chance dos dados terem vindo de duas estrelas da mesma dsitribuição*."
   ]
  }
 ],
 "metadata": {
  "kernelspec": {
   "display_name": "Python 3",
   "language": "python",
   "name": "python3"
  },
  "language_info": {
   "codemirror_mode": {
    "name": "ipython",
    "version": 3
   },
   "file_extension": ".py",
   "mimetype": "text/x-python",
   "name": "python",
   "nbconvert_exporter": "python",
   "pygments_lexer": "ipython3",
   "version": "3.8.3"
  }
 },
 "nbformat": 4,
 "nbformat_minor": 4
}
