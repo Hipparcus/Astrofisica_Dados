{
 "cells": [
  {
   "cell_type": "markdown",
   "metadata": {},
   "source": [
    "# Física Experimental IV\n",
    "### Dados recolhidos e gráficos montados"
   ]
  },
  {
   "cell_type": "markdown",
   "metadata": {},
   "source": [
    " - Relatório 4: Espectroscopia Ótica"
   ]
  },
  {
   "cell_type": "code",
   "execution_count": 1,
   "metadata": {},
   "outputs": [],
   "source": [
    "import numpy as np\n",
    "import pandas as pd\n",
    "import matplotlib.pyplot as plt\n",
    "import astropy.units as u\n",
    "import math\n",
    "import scipy.stats as stats\n",
    "from tqdm import tqdm \n",
    "import time\n",
    "import multiprocessing as mp\n",
    "#import latexify\n",
    "import random\n",
    "import scipy.special as sp"
   ]
  },
  {
   "cell_type": "code",
   "execution_count": 2,
   "metadata": {},
   "outputs": [],
   "source": [
    "O_o = 355 #Angulo de referencia"
   ]
  },
  {
   "cell_type": "code",
   "execution_count": 3,
   "metadata": {},
   "outputs": [],
   "source": [
    "dados = pd.read_csv('dados1.dat', delim_whitespace=True\n",
    "                   )\n",
    "df_1 = pd.DataFrame(data = dados.values, columns = ['Cor', 'Lambda', 'Dmin']\n",
    "                   )"
   ]
  },
  {
   "cell_type": "code",
   "execution_count": 4,
   "metadata": {},
   "outputs": [
    {
     "data": {
      "text/html": [
       "<div>\n",
       "<style scoped>\n",
       "    .dataframe tbody tr th:only-of-type {\n",
       "        vertical-align: middle;\n",
       "    }\n",
       "\n",
       "    .dataframe tbody tr th {\n",
       "        vertical-align: top;\n",
       "    }\n",
       "\n",
       "    .dataframe thead th {\n",
       "        text-align: right;\n",
       "    }\n",
       "</style>\n",
       "<table border=\"1\" class=\"dataframe\">\n",
       "  <thead>\n",
       "    <tr style=\"text-align: right;\">\n",
       "      <th></th>\n",
       "      <th>.</th>\n",
       "      <th>..1</th>\n",
       "      <th>..2</th>\n",
       "    </tr>\n",
       "  </thead>\n",
       "  <tbody>\n",
       "    <tr>\n",
       "      <th>0</th>\n",
       "      <td>Amarelo:</td>\n",
       "      <td>5791</td>\n",
       "      <td>304</td>\n",
       "    </tr>\n",
       "    <tr>\n",
       "      <th>1</th>\n",
       "      <td>Amarelo:</td>\n",
       "      <td>5770</td>\n",
       "      <td>304</td>\n",
       "    </tr>\n",
       "    <tr>\n",
       "      <th>2</th>\n",
       "      <td>Verde</td>\n",
       "      <td>1</td>\n",
       "      <td>303</td>\n",
       "    </tr>\n",
       "    <tr>\n",
       "      <th>3</th>\n",
       "      <td>Verde-Azul:</td>\n",
       "      <td>4916</td>\n",
       "      <td>302</td>\n",
       "    </tr>\n",
       "    <tr>\n",
       "      <th>4</th>\n",
       "      <td>Azul-Anil:</td>\n",
       "      <td>4378</td>\n",
       "      <td>301</td>\n",
       "    </tr>\n",
       "    <tr>\n",
       "      <th>5</th>\n",
       "      <td>Violeta(fraco):</td>\n",
       "      <td>4078</td>\n",
       "      <td>300</td>\n",
       "    </tr>\n",
       "    <tr>\n",
       "      <th>6</th>\n",
       "      <td>Violeta:</td>\n",
       "      <td>4047</td>\n",
       "      <td>300</td>\n",
       "    </tr>\n",
       "  </tbody>\n",
       "</table>\n",
       "</div>"
      ],
      "text/plain": [
       "                 .   ..1  ..2\n",
       "0         Amarelo:  5791  304\n",
       "1         Amarelo:  5770  304\n",
       "2            Verde     1  303\n",
       "3      Verde-Azul:  4916  302\n",
       "4       Azul-Anil:  4378  301\n",
       "5  Violeta(fraco):  4078  300\n",
       "6         Violeta:  4047  300"
      ]
     },
     "execution_count": 4,
     "metadata": {},
     "output_type": "execute_result"
    }
   ],
   "source": [
    "dados"
   ]
  },
  {
   "cell_type": "code",
   "execution_count": 5,
   "metadata": {},
   "outputs": [
    {
     "data": {
      "text/html": [
       "<div>\n",
       "<style scoped>\n",
       "    .dataframe tbody tr th:only-of-type {\n",
       "        vertical-align: middle;\n",
       "    }\n",
       "\n",
       "    .dataframe tbody tr th {\n",
       "        vertical-align: top;\n",
       "    }\n",
       "\n",
       "    .dataframe thead th {\n",
       "        text-align: right;\n",
       "    }\n",
       "</style>\n",
       "<table border=\"1\" class=\"dataframe\">\n",
       "  <thead>\n",
       "    <tr style=\"text-align: right;\">\n",
       "      <th></th>\n",
       "      <th>Cor</th>\n",
       "      <th>Lambda</th>\n",
       "      <th>Dmin</th>\n",
       "    </tr>\n",
       "  </thead>\n",
       "  <tbody>\n",
       "    <tr>\n",
       "      <th>0</th>\n",
       "      <td>Amarelo:</td>\n",
       "      <td>5791</td>\n",
       "      <td>304</td>\n",
       "    </tr>\n",
       "    <tr>\n",
       "      <th>1</th>\n",
       "      <td>Amarelo:</td>\n",
       "      <td>5770</td>\n",
       "      <td>304</td>\n",
       "    </tr>\n",
       "    <tr>\n",
       "      <th>2</th>\n",
       "      <td>Verde</td>\n",
       "      <td>1</td>\n",
       "      <td>303</td>\n",
       "    </tr>\n",
       "    <tr>\n",
       "      <th>3</th>\n",
       "      <td>Verde-Azul:</td>\n",
       "      <td>4916</td>\n",
       "      <td>302</td>\n",
       "    </tr>\n",
       "    <tr>\n",
       "      <th>4</th>\n",
       "      <td>Azul-Anil:</td>\n",
       "      <td>4378</td>\n",
       "      <td>301</td>\n",
       "    </tr>\n",
       "    <tr>\n",
       "      <th>5</th>\n",
       "      <td>Violeta(fraco):</td>\n",
       "      <td>4078</td>\n",
       "      <td>300</td>\n",
       "    </tr>\n",
       "    <tr>\n",
       "      <th>6</th>\n",
       "      <td>Violeta:</td>\n",
       "      <td>4047</td>\n",
       "      <td>300</td>\n",
       "    </tr>\n",
       "  </tbody>\n",
       "</table>\n",
       "</div>"
      ],
      "text/plain": [
       "               Cor Lambda Dmin\n",
       "0         Amarelo:   5791  304\n",
       "1         Amarelo:   5770  304\n",
       "2            Verde      1  303\n",
       "3      Verde-Azul:   4916  302\n",
       "4       Azul-Anil:   4378  301\n",
       "5  Violeta(fraco):   4078  300\n",
       "6         Violeta:   4047  300"
      ]
     },
     "execution_count": 5,
     "metadata": {},
     "output_type": "execute_result"
    }
   ],
   "source": [
    "df_1"
   ]
  },
  {
   "cell_type": "code",
   "execution_count": 6,
   "metadata": {},
   "outputs": [],
   "source": [
    "df_1['Dmin'] = df_1['Dmin'] - 355"
   ]
  },
  {
   "cell_type": "code",
   "execution_count": 7,
   "metadata": {},
   "outputs": [],
   "source": [
    "def funcao_n(dmin,A,lambd):\n",
    "    dmin = dmin*0.017453\n",
    "    A = A*0.017453\n",
    "    lambd = lambd*0.017453\n",
    "    return (np.sin((lambd+A)/2))/(np.sin(A/2))"
   ]
  },
  {
   "cell_type": "code",
   "execution_count": 8,
   "metadata": {},
   "outputs": [
    {
     "data": {
      "text/plain": [
       "array([2.98189859332214e-08, 3.0036434194678146e-08, 1.0,\n",
       "       4.137864372060875e-08, 5.2173321443381196e-08,\n",
       "       6.013198730685906e-08, 6.105673703394553e-08], dtype=object)"
      ]
     },
     "execution_count": 8,
     "metadata": {},
     "output_type": "execute_result"
    }
   ],
   "source": [
    "df_1['Lambda-2'] = 1/df_1['Lambda']**2\n",
    "df_1['Lambda-2'].values"
   ]
  },
  {
   "cell_type": "code",
   "execution_count": 9,
   "metadata": {},
   "outputs": [
    {
     "data": {
      "text/plain": [
       "array([-51., -51., -52., -53., -54., -55., -55.])"
      ]
     },
     "execution_count": 9,
     "metadata": {},
     "output_type": "execute_result"
    }
   ],
   "source": [
    "Dmin = np.array(df_1['Dmin'])\n",
    "Lambda = np.array(df_1['Lambda'])\n",
    "Dmin.astype(float)"
   ]
  },
  {
   "cell_type": "code",
   "execution_count": 10,
   "metadata": {},
   "outputs": [
    {
     "data": {
      "text/plain": [
       "array([1.42532241, 1.1457729 , 1.01507678, 1.06108878, 1.71369166,\n",
       "       1.99970429, 1.91732706])"
      ]
     },
     "execution_count": 10,
     "metadata": {},
     "output_type": "execute_result"
    }
   ],
   "source": [
    "df_1['n'] = abs(funcao_n(Dmin.astype(float),60,Lambda.astype(float)))\n",
    "df_1['n'].values"
   ]
  },
  {
   "cell_type": "markdown",
   "metadata": {},
   "source": [
    " - Manipulações"
   ]
  },
  {
   "cell_type": "code",
   "execution_count": 11,
   "metadata": {},
   "outputs": [],
   "source": [
    "df_1 = df_1.drop(2)"
   ]
  },
  {
   "cell_type": "code",
   "execution_count": 12,
   "metadata": {
    "scrolled": true
   },
   "outputs": [
    {
     "name": "stderr",
     "output_type": "stream",
     "text": [
      "<ipython-input-12-660ab4a1271a>:1: SettingWithCopyWarning: \n",
      "A value is trying to be set on a copy of a slice from a DataFrame\n",
      "\n",
      "See the caveats in the documentation: https://pandas.pydata.org/pandas-docs/stable/user_guide/indexing.html#returning-a-view-versus-a-copy\n",
      "  df_1['n'][3] = 1.561089\n",
      "<ipython-input-12-660ab4a1271a>:2: SettingWithCopyWarning: \n",
      "A value is trying to be set on a copy of a slice from a DataFrame\n",
      "\n",
      "See the caveats in the documentation: https://pandas.pydata.org/pandas-docs/stable/user_guide/indexing.html#returning-a-view-versus-a-copy\n",
      "  df_1['n'][6] = 2.015609\n"
     ]
    }
   ],
   "source": [
    "df_1['n'][3] = 1.561089 \n",
    "df_1['n'][6] = 2.015609"
   ]
  },
  {
   "cell_type": "code",
   "execution_count": 13,
   "metadata": {},
   "outputs": [
    {
     "data": {
      "text/html": [
       "<div>\n",
       "<style scoped>\n",
       "    .dataframe tbody tr th:only-of-type {\n",
       "        vertical-align: middle;\n",
       "    }\n",
       "\n",
       "    .dataframe tbody tr th {\n",
       "        vertical-align: top;\n",
       "    }\n",
       "\n",
       "    .dataframe thead th {\n",
       "        text-align: right;\n",
       "    }\n",
       "</style>\n",
       "<table border=\"1\" class=\"dataframe\">\n",
       "  <thead>\n",
       "    <tr style=\"text-align: right;\">\n",
       "      <th></th>\n",
       "      <th>Cor</th>\n",
       "      <th>Lambda</th>\n",
       "      <th>Dmin</th>\n",
       "      <th>Lambda-2</th>\n",
       "      <th>n</th>\n",
       "    </tr>\n",
       "  </thead>\n",
       "  <tbody>\n",
       "    <tr>\n",
       "      <th>0</th>\n",
       "      <td>Amarelo:</td>\n",
       "      <td>5791</td>\n",
       "      <td>-51</td>\n",
       "      <td>2.9819e-08</td>\n",
       "      <td>1.425322</td>\n",
       "    </tr>\n",
       "    <tr>\n",
       "      <th>1</th>\n",
       "      <td>Amarelo:</td>\n",
       "      <td>5770</td>\n",
       "      <td>-51</td>\n",
       "      <td>3.00364e-08</td>\n",
       "      <td>1.145773</td>\n",
       "    </tr>\n",
       "    <tr>\n",
       "      <th>3</th>\n",
       "      <td>Verde-Azul:</td>\n",
       "      <td>4916</td>\n",
       "      <td>-53</td>\n",
       "      <td>4.13786e-08</td>\n",
       "      <td>1.561089</td>\n",
       "    </tr>\n",
       "    <tr>\n",
       "      <th>4</th>\n",
       "      <td>Azul-Anil:</td>\n",
       "      <td>4378</td>\n",
       "      <td>-54</td>\n",
       "      <td>5.21733e-08</td>\n",
       "      <td>1.713692</td>\n",
       "    </tr>\n",
       "    <tr>\n",
       "      <th>5</th>\n",
       "      <td>Violeta(fraco):</td>\n",
       "      <td>4078</td>\n",
       "      <td>-55</td>\n",
       "      <td>6.0132e-08</td>\n",
       "      <td>1.999704</td>\n",
       "    </tr>\n",
       "    <tr>\n",
       "      <th>6</th>\n",
       "      <td>Violeta:</td>\n",
       "      <td>4047</td>\n",
       "      <td>-55</td>\n",
       "      <td>6.10567e-08</td>\n",
       "      <td>2.015609</td>\n",
       "    </tr>\n",
       "  </tbody>\n",
       "</table>\n",
       "</div>"
      ],
      "text/plain": [
       "               Cor Lambda Dmin     Lambda-2         n\n",
       "0         Amarelo:   5791  -51   2.9819e-08  1.425322\n",
       "1         Amarelo:   5770  -51  3.00364e-08  1.145773\n",
       "3      Verde-Azul:   4916  -53  4.13786e-08  1.561089\n",
       "4       Azul-Anil:   4378  -54  5.21733e-08  1.713692\n",
       "5  Violeta(fraco):   4078  -55   6.0132e-08  1.999704\n",
       "6         Violeta:   4047  -55  6.10567e-08  2.015609"
      ]
     },
     "execution_count": 13,
     "metadata": {},
     "output_type": "execute_result"
    }
   ],
   "source": [
    "df_1"
   ]
  },
  {
   "cell_type": "code",
   "execution_count": 14,
   "metadata": {},
   "outputs": [
    {
     "data": {
      "image/png": "[encoded data removed]",
      "text/plain": [
       "<Figure size 720x216 with 1 Axes>"
      ]
     },
     "metadata": {},
     "output_type": "display_data"
    }
   ],
   "source": [
    "plt.figure(figsize=[10, 3], facecolor='white')\n",
    "plt.plot(df_1['Lambda-2'],df_1['n'],'k.-')\n",
    "plt.ylabel('n(lambda)', fontsize=15)\n",
    "plt.xlabel('Lambda-2',  fontsize=15)\n",
    "#plt.axhline(0.1, color='r', linestyle='dotted', linewidth=2)\n",
    "plt.show()"
   ]
  },
  {
   "cell_type": "code",
   "execution_count": 15,
   "metadata": {},
   "outputs": [],
   "source": [
    "from scipy.optimize import curve_fit"
   ]
  },
  {
   "cell_type": "code",
   "execution_count": 16,
   "metadata": {},
   "outputs": [],
   "source": [
    "# Ajustando a reta:\n",
    "def reta(x,a,b):\n",
    "    return b + a*x\n",
    "\n",
    "x = df_1['Lambda-2']\n",
    "y = df_1['n']\n",
    "parameters, covariance = curve_fit(reta, x, y, p0=[1, 1])"
   ]
  },
  {
   "cell_type": "code",
   "execution_count": 17,
   "metadata": {},
   "outputs": [
    {
     "data": {
      "text/plain": [
       "array([2.28759416e+07, 5.96590783e-01])"
      ]
     },
     "execution_count": 17,
     "metadata": {},
     "output_type": "execute_result"
    }
   ],
   "source": [
    "parameters"
   ]
  },
  {
   "cell_type": "code",
   "execution_count": 18,
   "metadata": {},
   "outputs": [
    {
     "name": "stdout",
     "output_type": "stream",
     "text": [
      "Incertezas: \n",
      " [3.45773222e+06 1.64435606e-01]\n"
     ]
    }
   ],
   "source": [
    "error = np.sqrt(np.diagonal(covariance))\n",
    "print('Incertezas: \\n', error)"
   ]
  },
  {
   "cell_type": "code",
   "execution_count": 19,
   "metadata": {},
   "outputs": [
    {
     "data": {
      "image/png": "[encoded data removed]",
      "text/plain": [
       "<Figure size 720x216 with 1 Axes>"
      ]
     },
     "metadata": {},
     "output_type": "display_data"
    }
   ],
   "source": [
    "y_modelo = reta(x, a=2.28759416*10000000 + 3.45773222*1000000, b= 0.596590783 - 0.164435)\n",
    "\n",
    "plt.figure(figsize=[10, 3], facecolor='white')\n",
    "plt.plot(x,y,'k.-')\n",
    "plt.plot(x,y_modelo,'r--')\n",
    "plt.ylabel('n(lambda)', fontsize=15)\n",
    "plt.xlabel('Lambda-2',  fontsize=15)\n",
    "plt.axvline(0.00000004, color='g', linestyle='dotted', linewidth=2)\n",
    "plt.axhline(1.5, color='g', linestyle='dotted', linewidth=2)\n",
    "\n",
    "\n",
    "plt.legend(['Medidas Laboratório', 'Reta Ajustada','Verde'])\n",
    "plt.show()"
   ]
  },
  {
   "cell_type": "code",
   "execution_count": 20,
   "metadata": {},
   "outputs": [
    {
     "data": {
      "text/plain": [
       "0.596590783"
      ]
     },
     "execution_count": 20,
     "metadata": {},
     "output_type": "execute_result"
    }
   ],
   "source": [
    "0.596590783"
   ]
  },
  {
   "cell_type": "code",
   "execution_count": 21,
   "metadata": {},
   "outputs": [
    {
     "data": {
      "text/plain": [
       "22875941.599999998"
      ]
     },
     "execution_count": 21,
     "metadata": {},
     "output_type": "execute_result"
    }
   ],
   "source": [
    "2.28759416*10000000"
   ]
  },
  {
   "cell_type": "code",
   "execution_count": 22,
   "metadata": {},
   "outputs": [],
   "source": [
    "def DR(aprox,exact):\n",
    "    return (abs(aprox - exact)/exact)*100"
   ]
  },
  {
   "cell_type": "code",
   "execution_count": 23,
   "metadata": {},
   "outputs": [
    {
     "data": {
      "text/plain": [
       "3.3001281816517167"
      ]
     },
     "execution_count": 23,
     "metadata": {},
     "output_type": "execute_result"
    }
   ],
   "source": [
    "DR(5280.78,5461)"
   ]
  },
  {
   "cell_type": "code",
   "execution_count": 39,
   "metadata": {},
   "outputs": [
    {
     "data": {
      "text/plain": [
       "25.064666666666668"
      ]
     },
     "execution_count": 39,
     "metadata": {},
     "output_type": "execute_result"
    }
   ],
   "source": [
    "DR(1875.97,1500)"
   ]
  },
  {
   "cell_type": "code",
   "execution_count": 40,
   "metadata": {},
   "outputs": [
    {
     "data": {
      "text/plain": [
       "6.7961165048543615"
      ]
     },
     "execution_count": 40,
     "metadata": {},
     "output_type": "execute_result"
    }
   ],
   "source": [
    "DR(11,10.3)"
   ]
  },
  {
   "cell_type": "code",
   "execution_count": 46,
   "metadata": {},
   "outputs": [
    {
     "data": {
      "text/plain": [
       "0.6999999999999993"
      ]
     },
     "execution_count": 46,
     "metadata": {},
     "output_type": "execute_result"
    }
   ],
   "source": [
    "11-10.3"
   ]
  },
  {
   "cell_type": "code",
   "execution_count": 24,
   "metadata": {},
   "outputs": [],
   "source": [
    "dados2 = pd.read_csv('dados2.dat', delim_whitespace=True\n",
    "                   )\n",
    "df_2 = pd.DataFrame(data = dados2.values, columns = ['Cor', 'Theta_max','Nan']\n",
    "                   )"
   ]
  },
  {
   "cell_type": "code",
   "execution_count": 25,
   "metadata": {},
   "outputs": [
    {
     "data": {
      "text/html": [
       "<div>\n",
       "<style scoped>\n",
       "    .dataframe tbody tr th:only-of-type {\n",
       "        vertical-align: middle;\n",
       "    }\n",
       "\n",
       "    .dataframe tbody tr th {\n",
       "        vertical-align: top;\n",
       "    }\n",
       "\n",
       "    .dataframe thead th {\n",
       "        text-align: right;\n",
       "    }\n",
       "</style>\n",
       "<table border=\"1\" class=\"dataframe\">\n",
       "  <thead>\n",
       "    <tr style=\"text-align: right;\">\n",
       "      <th></th>\n",
       "      <th>Cor</th>\n",
       "      <th>Theta_max</th>\n",
       "      <th>Nan</th>\n",
       "    </tr>\n",
       "  </thead>\n",
       "  <tbody>\n",
       "    <tr>\n",
       "      <th>0</th>\n",
       "      <td>Amarelo:</td>\n",
       "      <td>337</td>\n",
       "      <td>NaN</td>\n",
       "    </tr>\n",
       "    <tr>\n",
       "      <th>1</th>\n",
       "      <td>Amarelo:</td>\n",
       "      <td>337</td>\n",
       "      <td>NaN</td>\n",
       "    </tr>\n",
       "    <tr>\n",
       "      <th>2</th>\n",
       "      <td>Verde-Azul:</td>\n",
       "      <td>340</td>\n",
       "      <td>NaN</td>\n",
       "    </tr>\n",
       "    <tr>\n",
       "      <th>3</th>\n",
       "      <td>Azul-Anil:</td>\n",
       "      <td>342</td>\n",
       "      <td>NaN</td>\n",
       "    </tr>\n",
       "    <tr>\n",
       "      <th>4</th>\n",
       "      <td>Violeta(fraco):</td>\n",
       "      <td>343</td>\n",
       "      <td>NaN</td>\n",
       "    </tr>\n",
       "    <tr>\n",
       "      <th>5</th>\n",
       "      <td>Violeta:</td>\n",
       "      <td>343</td>\n",
       "      <td>NaN</td>\n",
       "    </tr>\n",
       "  </tbody>\n",
       "</table>\n",
       "</div>"
      ],
      "text/plain": [
       "               Cor Theta_max  Nan\n",
       "0         Amarelo:       337  NaN\n",
       "1         Amarelo:       337  NaN\n",
       "2      Verde-Azul:       340  NaN\n",
       "3       Azul-Anil:       342  NaN\n",
       "4  Violeta(fraco):       343  NaN\n",
       "5         Violeta:       343  NaN"
      ]
     },
     "execution_count": 25,
     "metadata": {},
     "output_type": "execute_result"
    }
   ],
   "source": [
    "df_2"
   ]
  },
  {
   "cell_type": "code",
   "execution_count": 26,
   "metadata": {},
   "outputs": [],
   "source": [
    "df_2['Theta_max'] = df_2['Theta_max'] - 355"
   ]
  },
  {
   "cell_type": "code",
   "execution_count": 27,
   "metadata": {},
   "outputs": [
    {
     "data": {
      "text/plain": [
       "array([-18, -18, -15, -13, -12, -12], dtype=object)"
      ]
     },
     "execution_count": 27,
     "metadata": {},
     "output_type": "execute_result"
    }
   ],
   "source": [
    "df_2['Theta_max'].values"
   ]
  },
  {
   "cell_type": "code",
   "execution_count": 36,
   "metadata": {},
   "outputs": [],
   "source": [
    "dados3 = pd.read_csv('dado3.dat', delim_whitespace=True\n",
    "                   )\n",
    "df_3 = pd.DataFrame(data = dados3.values, columns = ['m', 'sen']\n",
    "                   )"
   ]
  },
  {
   "cell_type": "code",
   "execution_count": 37,
   "metadata": {},
   "outputs": [
    {
     "data": {
      "text/html": [
       "<div>\n",
       "<style scoped>\n",
       "    .dataframe tbody tr th:only-of-type {\n",
       "        vertical-align: middle;\n",
       "    }\n",
       "\n",
       "    .dataframe tbody tr th {\n",
       "        vertical-align: top;\n",
       "    }\n",
       "\n",
       "    .dataframe thead th {\n",
       "        text-align: right;\n",
       "    }\n",
       "</style>\n",
       "<table border=\"1\" class=\"dataframe\">\n",
       "  <thead>\n",
       "    <tr style=\"text-align: right;\">\n",
       "      <th></th>\n",
       "      <th>m</th>\n",
       "      <th>sen</th>\n",
       "    </tr>\n",
       "  </thead>\n",
       "  <tbody>\n",
       "    <tr>\n",
       "      <th>0</th>\n",
       "      <td>-2.0</td>\n",
       "      <td>0.460</td>\n",
       "    </tr>\n",
       "    <tr>\n",
       "      <th>1</th>\n",
       "      <td>-1.0</td>\n",
       "      <td>0.180</td>\n",
       "    </tr>\n",
       "    <tr>\n",
       "      <th>2</th>\n",
       "      <td>1.0</td>\n",
       "      <td>-0.360</td>\n",
       "    </tr>\n",
       "    <tr>\n",
       "      <th>3</th>\n",
       "      <td>2.0</td>\n",
       "      <td>-0.642</td>\n",
       "    </tr>\n",
       "  </tbody>\n",
       "</table>\n",
       "</div>"
      ],
      "text/plain": [
       "     m    sen\n",
       "0 -2.0  0.460\n",
       "1 -1.0  0.180\n",
       "2  1.0 -0.360\n",
       "3  2.0 -0.642"
      ]
     },
     "execution_count": 37,
     "metadata": {},
     "output_type": "execute_result"
    }
   ],
   "source": [
    "df_3"
   ]
  }
 ],
 "metadata": {
  "kernelspec": {
   "display_name": "Python 3",
   "language": "python",
   "name": "python3"
  },
  "language_info": {
   "codemirror_mode": {
    "name": "ipython",
    "version": 3
   },
   "file_extension": ".py",
   "mimetype": "text/x-python",
   "name": "python",
   "nbconvert_exporter": "python",
   "pygments_lexer": "ipython3",
   "version": "3.8.3"
  }
 },
 "nbformat": 4,
 "nbformat_minor": 4
}
