{
 "cells": [
  {
   "cell_type": "code",
   "execution_count": 1,
   "metadata": {},
   "outputs": [],
   "source": [
    "import numpy as np\n",
    "import pandas as pd\n",
    "import math\n",
    "import matplotlib.pyplot as plt\n",
    "from sklearn.linear_model import LinearRegression"
   ]
  },
  {
   "cell_type": "markdown",
   "metadata": {},
   "source": [
    "# Lista 3 de Métodos Computacionais da Astronomia\n",
    "## Aluno: Thiago Laidler Vidal Cunha \n",
    "### (parte 1)\t\n",
    "\t1- [Numpy – Índices e estruturas]\n",
    "\t"
   ]
  },
  {
   "cell_type": "code",
   "execution_count": 73,
   "metadata": {},
   "outputs": [
    {
     "name": "stdout",
     "output_type": "stream",
     "text": [
      "[[ 11.   6.  -3.   5.   9. -10.   0.   1.  -7.  -6.   6.   4.  11.  -8.\n",
      "   -9.   6.  -4.   2.   1.  10.]\n",
      " [  5.   3.  -1.   0.  -9.  -6.  -4.  -6.   1.  10.   5.   5.   1.   1.\n",
      "   11.   6.   8.  -1.   3.  10.]\n",
      " [  9.   3.   5.  11.  11.  11.   3.   6.   2.   7.  11.   8.  -3.   2.\n",
      "   -9.   7. -10.  10.   2.  -1.]\n",
      " [  0.  -1.  -7.  -8.  -5.  -3.   9.   2.   7.   4.  11.  -7.  10.   0.\n",
      "    1.   2.  10.   8.   1.  -8.]\n",
      " [ -3.   3.  -8.  -4.   6.   9.  -4.  -2.  -7.  -1.  -9.  -5.  -9.  -3.\n",
      "   -7.  -5.  -6.  11. -10.   2.]\n",
      " [  5.  -6.  -2.   0.   2.  -8.  -3.  -7.   7.  -2.  -2.  -4.  -3.  -1.\n",
      "    8.  10.   4.  -2.  -3.   2.]]\n",
      "\n",
      "\n"
     ]
    }
   ],
   "source": [
    "array_original = np.loadtxt('array.dat')\n",
    "print(str(array_original)+'\\n\\n')\n",
    "linhas = array_original[:,0] \n",
    "colunas = array_original[0,:]\n",
    "n1 = array_original[:,2]  #3° coluna, coluna 2:  -3. -1. 5....\n",
    "n2 = array_original[4,:] # 5° linha\n",
    "n3 = array_original[:,1::2] #Colunas pares\n",
    "n4 = array_original[::2,:] #linhas impares\n",
    "n5 = []       # Lista com os multiplos de 5\n",
    "for i in list(range(len(linhas))):\n",
    "    for j in list(range(len(colunas))):\n",
    "        if (array_original[i,j]%5) == 0:\n",
    "            n5.append(array_original[i,j])\n",
    "        else:\n",
    "            continue\n",
    "m5 = np.asarray(n5) #Transformando a lista em array\n",
    "n6 = [] #lista com os numeros positivos\n",
    "for i in list(range(len(linhas))):\n",
    "    for j in list(range(len(colunas))):\n",
    "        if array_original[i,j] > 0:\n",
    "            n6.append(array_original[i,j])\n",
    "        else:\n",
    "            continue\n",
    "m6 = np.asarray(n6) #transformando em array\n",
    "n7 = array_original.T  #transposta\n",
    "np.shape(array_original)\n",
    "n8 = np.reshape(array_original,(1,120)) # array achatado"
   ]
  },
  {
   "cell_type": "markdown",
   "metadata": {},
   "source": [
    "2- [Numpy – Funções]"
   ]
  },
  {
   "cell_type": "code",
   "execution_count": 74,
   "metadata": {},
   "outputs": [],
   "source": [
    "def qa():\n",
    "    somt=0\n",
    "    media1 = np.mean(n1) \n",
    "    desvio1 = np.std(n1) \n",
    "    quadr1 = np.power(n1,2) \n",
    "    raiz1 = np.lib.scimath.sqrt(n1) \n",
    "    sen1 = np.sin(n1)  \n",
    "    soma1 = np.sum(n1) \n",
    "    somt = somt + np.sum(n1)\n",
    "    media2 = np.mean(n2) \n",
    "    desvio2 = np.std(n2) \n",
    "    quadr2 = np.power(n2 , 2) \n",
    "    raiz2 = np.lib.scimath.sqrt(n2) \n",
    "    sen2 = np.sin(n2) \n",
    "    soma2 = np.sum(n2) \n",
    "    somt = somt + np.sum(n2)\n",
    "    media3 = np.mean(n3) \n",
    "    desvio3 = np.std(n3) \n",
    "    quadr3 = np.power(n3 , 2) \n",
    "    raiz3 = np.lib.scimath.sqrt(n3) \n",
    "    sen3 = np.sin(n3) \n",
    "    soma3 = np.sum(n3) \n",
    "    somt = somt + np.sum(n3)\n",
    "    media4 = np.mean(n4) \n",
    "    desvio4 = np.std(n4) \n",
    "    quadr4 = np.power(n4 , 2) \n",
    "    raiz4 = np.lib.scimath.sqrt(n4) \n",
    "    sen4 = np.sin(n4) \n",
    "    soma4 = np.sum(n4) \n",
    "    somt = somt + np.sum(n4)\n",
    "    media5 = np.mean(m5) \n",
    "    desvio5 = np.std(m5) \n",
    "    quadr5 = np.power(m5 , 2) \n",
    "    raiz5 = np.lib.scimath.sqrt(m5) \n",
    "    sen5 = np.sin(m5) \n",
    "    soma5 = np.sum(m5) \n",
    "    somt = somt + np.sum(m5)\n",
    "    media6 = np.mean(m6) \n",
    "    desvio6 = np.std(m6) \n",
    "    quadr6 = np.power(m6 , 2) \n",
    "    raiz6 = np.lib.scimath.sqrt(m6) \n",
    "    sen6 = np.sin(m6) \n",
    "    soma6 = np.sum(m6) \n",
    "    somt = somt + np.sum(m6)\n",
    "    media7 = np.mean(n7) \n",
    "    desvio7 = np.std(n7) \n",
    "    quadr7 = np.power(n7 , 2) \n",
    "    raiz7 = np.lib.scimath.sqrt(n7) \n",
    "    sen7 = np.sin(n7) \n",
    "    soma7 = np.sum(n7) \n",
    "    somt = somt + np.sum(n7)\n",
    "    media8 = np.mean(n8) \n",
    "    desvio8 = np.std(n8) \n",
    "    quadr8 = np.power(n8 , 2) \n",
    "    raiz8 = np.lib.scimath.sqrt(n8) \n",
    "    sen8 = np.sin(n8) \n",
    "    soma8 = np.sum(n8) \n",
    "    somt = somt + np.sum(n8)\n",
    "    print ('soma total: '+ str(somt) + '\\n\\ndesvios:'+str(desvio1)+','+str(desvio2)+','+str(desvio3)+','+str(desvio4) + ' ,' + str(desvio5))\n",
    "    print ('\\nsomas: '+str(soma1)+ ', ' + str(soma2) +', ' + str(soma3) + ', ' +str(soma4)+', '+str(soma5)+' ,'+str(soma6)+' ,'+str(soma7)+' ,'+str(soma8)+'\\n')\n",
    "    print ('medias: ' + str(media1) + ' ,'+ str(media2) + ' ,'+ str(media3) + ' ,'+ str(media4) + ' ,'+str(media5)+','+str(media6)+','+str(media7)+','+str(media8)+'\\n')\n",
    "    #print ('raizes: ' + str(raiz1) + ' ,' + str(raiz2) + ' ,' + str(raiz3) + ' ,' + str(raiz4) + '\\n') \n",
    "    #print ('senos : ' + str(sen1) + ' ,' + str(sen2) + ' ,' + str(sen3) + ' ,' + str(sen4) + '\\n')\n",
    "    #print ('quadrados: ' + str(quadr1) + ' ,' + str(quadr2) + ' ,' + str(quadr3) + ' ,' + str(quadr4) + '\\n')\n",
    "    #Ocultos devido ao tamanho. Mas úteis para verificar os resultados.\n",
    "                                          \n",
    "\n",
    "        \n",
    "def qb():\n",
    "    \n",
    "    al1 = np.random.random(size=50)\n",
    "    al2 = np.random.random(size=50)\n",
    "    soma = al1+al2\n",
    "    multescalar = al1*al2\n",
    "    mult = al1.dot(al2)\n",
    "    div = al1/al2\n",
    "    print (' Matrizes: '+str(al1)+'\\n'+str(al2)+'\\n')\n",
    "    print (soma,multescalar,mult,div)\n",
    "    "
   ]
  },
  {
   "cell_type": "markdown",
   "metadata": {},
   "source": [
    "3- [For com list comprehension]"
   ]
  },
  {
   "cell_type": "code",
   "execution_count": 92,
   "metadata": {},
   "outputs": [],
   "source": [
    "seno = []\n",
    "for i in np.arange(-2*math.pi,2*math.pi,math.pi/100):\n",
    "    seno.append(np.sin(i))\n",
    "\n",
    "##Versão linspace:\n",
    "#np.linspace(-2*math.pi,2*math.pi,401) \n",
    "\n",
    "### --> 401 = len(np.arange(-2*math.pi,2*math.pi,math.pi/100)) + 1\n",
    "\n",
    "#for j in np.linspace(-2*math.pi,2*math.pi,401):\n",
    " #   seno.append(np.sin(i))\n",
    "    "
   ]
  },
  {
   "cell_type": "markdown",
   "metadata": {},
   "source": [
    "### Aplicações na astronomia\n",
    "4- [Funções + Pandas + Algoritmo iterativo + Numpy]\n"
   ]
  },
  {
   "cell_type": "code",
   "execution_count": 23,
   "metadata": {},
   "outputs": [
    {
     "data": {
      "text/html": [
       "<div>\n",
       "<style scoped>\n",
       "    .dataframe tbody tr th:only-of-type {\n",
       "        vertical-align: middle;\n",
       "    }\n",
       "\n",
       "    .dataframe tbody tr th {\n",
       "        vertical-align: top;\n",
       "    }\n",
       "\n",
       "    .dataframe thead th {\n",
       "        text-align: right;\n",
       "    }\n",
       "</style>\n",
       "<table border=\"1\" class=\"dataframe\">\n",
       "  <thead>\n",
       "    <tr style=\"text-align: right;\">\n",
       "      <th></th>\n",
       "      <th>Distancia(MPc)</th>\n",
       "      <th>Velocidade(k/sec)</th>\n",
       "    </tr>\n",
       "  </thead>\n",
       "  <tbody>\n",
       "    <tr>\n",
       "      <th>count</th>\n",
       "      <td>20.000000</td>\n",
       "      <td>20.000000</td>\n",
       "    </tr>\n",
       "    <tr>\n",
       "      <th>mean</th>\n",
       "      <td>22.565000</td>\n",
       "      <td>1782.900000</td>\n",
       "    </tr>\n",
       "    <tr>\n",
       "      <th>std</th>\n",
       "      <td>14.078063</td>\n",
       "      <td>1176.933164</td>\n",
       "    </tr>\n",
       "    <tr>\n",
       "      <th>min</th>\n",
       "      <td>2.000000</td>\n",
       "      <td>94.000000</td>\n",
       "    </tr>\n",
       "    <tr>\n",
       "      <th>25%</th>\n",
       "      <td>7.800000</td>\n",
       "      <td>688.000000</td>\n",
       "    </tr>\n",
       "    <tr>\n",
       "      <th>50%</th>\n",
       "      <td>20.150000</td>\n",
       "      <td>1796.500000</td>\n",
       "    </tr>\n",
       "    <tr>\n",
       "      <th>75%</th>\n",
       "      <td>35.150000</td>\n",
       "      <td>2523.750000</td>\n",
       "    </tr>\n",
       "    <tr>\n",
       "      <th>max</th>\n",
       "      <td>48.000000</td>\n",
       "      <td>3969.000000</td>\n",
       "    </tr>\n",
       "  </tbody>\n",
       "</table>\n",
       "</div>"
      ],
      "text/plain": [
       "       Distancia(MPc)  Velocidade(k/sec)\n",
       "count       20.000000          20.000000\n",
       "mean        22.565000        1782.900000\n",
       "std         14.078063        1176.933164\n",
       "min          2.000000          94.000000\n",
       "25%          7.800000         688.000000\n",
       "50%         20.150000        1796.500000\n",
       "75%         35.150000        2523.750000\n",
       "max         48.000000        3969.000000"
      ]
     },
     "execution_count": 23,
     "metadata": {},
     "output_type": "execute_result"
    },
    {
     "data": {
      "image/png": "[encoded data removed]",
      "text/plain": [
       "<Figure size 432x288 with 1 Axes>"
      ]
     },
     "metadata": {
      "needs_background": "light"
     },
     "output_type": "display_data"
    }
   ],
   "source": [
    "uri = 'diagrama_de_Hubble.csv'\n",
    "df = pd.read_csv(uri)\n",
    "df.head()\n",
    "df2 = np.genfromtxt(uri,delimiter=\",\")\n",
    "df.columns = [\"Galaxias\",\"Distancia(MPc)\",\"Velocidade(k/sec)\"]\n",
    "#plotando\n",
    "df.head()\n",
    "df.plot(kind='scatter',x='Distancia(MPc)',y='Velocidade(k/sec)',color = 'red')\n",
    "df.describe()                               #df3 = np.array(df) // df3[:,1:3]"
   ]
  },
  {
   "cell_type": "markdown",
   "metadata": {},
   "source": [
    "Tentativa 1: "
   ]
  },
  {
   "cell_type": "code",
   "execution_count": 15,
   "metadata": {},
   "outputs": [
    {
     "name": "stdout",
     "output_type": "stream",
     "text": [
      "Constante de Hubble: 2.360452806288216e+32\n"
     ]
    },
    {
     "data": {
      "text/plain": [
       "[<matplotlib.lines.Line2D at 0x7effb9e9a1c0>]"
      ]
     },
     "execution_count": 15,
     "metadata": {},
     "output_type": "execute_result"
    },
    {
     "data": {
      "image/png": "[encoded data removed]",
      "text/plain": [
       "<Figure size 432x288 with 1 Axes>"
      ]
     },
     "metadata": {
      "needs_background": "light"
     },
     "output_type": "display_data"
    }
   ],
   "source": [
    "x = df['Distancia(MPc)'].values\n",
    "xmin = min(x)\n",
    "xmax = max(x)\n",
    "xmedia = np.mean(x)\n",
    "xplot = np.linspace(xmin, xmax, len(df['Distancia(MPc)'].values))\n",
    "y = df['Velocidade(k/sec)'].values\n",
    "ymin = min(y)\n",
    "ymax = max(y)\n",
    "ymedia = np.mean(y)\n",
    "####Calculando\n",
    "xerro = x - xmedia\n",
    "yerro = y - ymedia\n",
    "erro = xerro*yerro\n",
    "somaerrosxy = np.sum(erro)\n",
    "somaerrox_quad = np.sum(xerro)**2\n",
    "#Coef angular da função /constante de Hubble:\n",
    "a = somaerrosxy/somaerrox_quad\n",
    "print('Constante de Hubble: '+str(a))\n",
    "#Coef Linear\n",
    "b = ymedia - a*xmedia\n",
    "#Reta da regressão\n",
    "reta = a*x+b\n",
    "plt.scatter(x,y,label='Galaxias')\n",
    "plt.legend()\n",
    "plt.plot(x,reta,label='Ajuste', color='red')"
   ]
  },
  {
   "cell_type": "markdown",
   "metadata": {},
   "source": [
    "Tentativa 2: "
   ]
  },
  {
   "cell_type": "code",
   "execution_count": 22,
   "metadata": {},
   "outputs": [
    {
     "name": "stdout",
     "output_type": "stream",
     "text": [
      "melhor fit - iter: 0=80.0\n",
      "melhor fit - iter: 1=78.88888888888889\n",
      "melhor fit - iter: 2=79.13580246913581\n",
      "melhor fit - iter: 3=79.08093278463649\n",
      "melhor fit - iter: 4=79.04435299497028\n"
     ]
    },
    {
     "data": {
      "image/png": "[encoded data removed]",
      "text/plain": [
       "<Figure size 432x288 with 1 Axes>"
      ]
     },
     "metadata": {
      "needs_background": "light"
     },
     "output_type": "display_data"
    },
    {
     "name": "stdout",
     "output_type": "stream",
     "text": [
      "Constante de Hubble: 79.04435299497028\n"
     ]
    }
   ],
   "source": [
    "def mmqReta(obsy,obsx,valori,valorf,passo,tolerancia):\n",
    "    itera = 0 #Contar as iterações\n",
    "    while (2*abs((valori-valorf)/(valori+valorf))>tolerancia):\n",
    "        mmq_array = np.zeros(passo) #Pre-alocando espaco para mmq\n",
    "        ateste = np.linspace(valori,valorf,passo) #valores de teste p coeficiente\n",
    "        for i in range(passo):\n",
    "            mmq_array[i] = np.sum((obsy-ateste[i]*obsx)**2) #calculo dos quadrados dos erros de cada teste de coef\n",
    "        idx_min = np.argmin(mmq_array) #encontrando posição do minimo\n",
    "        valori,ajuste,valorf = ateste[idx_min-1:idx_min+2] #pegar os valores vizinhos pra testar dnv\n",
    "        print ('melhor fit - iter: '+ str(itera)+'='+str(ajuste))\n",
    "        itera=itera+1\n",
    "    return ajuste\n",
    "        \n",
    "    \n",
    "#valores a serem aplicados\n",
    "obsx = df['Distancia(MPc)'].values \n",
    "obsy = df['Velocidade(k/sec)'].values \n",
    "valorf = 100 #chute maximo\n",
    "valori = 10 # chute minimo\n",
    "passo = 10 # passos por iteração\n",
    "tolerancia = 0.002 #tolerancia da variação entre iterações\n",
    "\n",
    "h0 = mmqReta(obsy,obsx,valori,valorf,passo,tolerancia)\n",
    "\n",
    "#plot\n",
    "plt.scatter(x,y,label='Galaxias')\n",
    "plt.plot(h0*np.arange(0,49),color='red')\n",
    "plt.title('Diagrama de Hubble')\n",
    "plt.show()\n",
    "print (\"Constante de Hubble: \"+str(h0))"
   ]
  },
  {
   "cell_type": "markdown",
   "metadata": {},
   "source": [
    "5- [Argparse + Astropy]"
   ]
  },
  {
   "cell_type": "markdown",
   "metadata": {},
   "source": [
    "Criando um arquivo .py e abrindo pelo terminal:"
   ]
  },
  {
   "cell_type": "code",
   "execution_count": null,
   "metadata": {},
   "outputs": [],
   "source": [
    "#!/usr/bin/env python3\n",
    "import argparse\n",
    "import astropy\n",
    "import astropy.units as u\n",
    "from astropy.time import Time\n",
    "from astropy.coordinates import SkyCoord, EarthLocation, AltAz\n",
    "\n",
    "parser = argparse.ArgumentParser(description = 'Receber as coordenadas de um observador. Altitude, Latitude, Longitude')\n",
    "\n",
    "parser.add_argument('-lat', '--latitude', type = float, help = 'Latitude do observador')\n",
    "parser.add_argument('-long','--longitude',type = float, help = 'Longitude do observador' )\n",
    "parser.add_argument('-alt','--altitude',type = float, help = 'Altitude do observador')\n",
    "parser.add_argument('-obg','--objeto',type = str, help = 'Nome do objeto')\n",
    "args = parser.parse_args()\n",
    "\n",
    "obj = SkyCoord.from_name(args.objeto)\n",
    "coord = EarthLocation(lat=args.latitude*u.deg,lon=args.longitude*u.deg, height=args.altitude*u.n)\n",
    "tempo = Time.now()\n",
    "obj_agora = obj.transform_to(AltAz(location=coord, obstime=agora)) #agora = tempo?\n",
    "\n",
    "print (\"Localização dos Observadores: \" + str(args.latitude)+','+str(args.longitude)+','+str(args.altitude)+'\\n'+'Nome do Objeto: '+str(args.objeto)+'\\n'+'Coordenadas:\\n'+'Altazimutais: '+str(obj_agora.az)+','+str(obj_agora.alt)+'\\n'+'Equatoriais: '+str(obj.ra)+','+str(obj.dec)\n",
    ")"
   ]
  },
  {
   "cell_type": "markdown",
   "metadata": {},
   "source": [
    "Rodar com: \n",
    "   >*python3 questao5.py -lat (digite) -long (digite) -alt (digite) -obg (digite)*"
   ]
  }
 ],
 "metadata": {
  "kernelspec": {
   "display_name": "Python 2",
   "language": "python",
   "name": "python2"
  },
  "language_info": {
   "codemirror_mode": {
    "name": "ipython",
    "version": 3
   },
   "file_extension": ".py",
   "mimetype": "text/x-python",
   "name": "python",
   "nbconvert_exporter": "python",
   "pygments_lexer": "ipython3",
   "version": "3.8.3"
  }
 },
 "nbformat": 4,
 "nbformat_minor": 4
}
