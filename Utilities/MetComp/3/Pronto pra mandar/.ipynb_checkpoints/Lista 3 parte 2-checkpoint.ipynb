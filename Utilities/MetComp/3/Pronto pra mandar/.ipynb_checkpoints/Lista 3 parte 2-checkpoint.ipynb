{
 "cells": [
  {
   "cell_type": "code",
   "execution_count": 4,
   "metadata": {},
   "outputs": [],
   "source": [
    "import numpy as np\n",
    "import pandas as pd\n",
    "import math\n",
    "import matplotlib.pyplot as plt\n",
    "from sklearn.linear_model import LinearRegression"
   ]
  },
  {
   "cell_type": "markdown",
   "metadata": {},
   "source": [
    "# Lista 3 de Métodos Computacionais da Astronomia\n",
    "## Aluno: Thiago Laidler Vidal Cunha\n",
    "### (parte 2)"
   ]
  },
  {
   "cell_type": "markdown",
   "metadata": {},
   "source": [
    "6 - [Algorítimos recursivos vs Iterativos]"
   ]
  },
  {
   "cell_type": "code",
   "execution_count": 6,
   "metadata": {},
   "outputs": [
    {
     "name": "stdout",
     "output_type": "stream",
     "text": [
      "[47, 43, 41, 37, 31, 29, 23, 19, 17, 13, 11, 7, 5, 3, 2]\n",
      "15\n",
      "[73, 71, 67, 61, 59, 53, 47, 43, 41, 37, 31, 29, 23, 19, 17, 13, 11, 7, 5, 3, 2]\n",
      "21\n",
      "[13, 11, 7, 5, 3, 2]\n",
      "6\n"
     ]
    }
   ],
   "source": [
    "def ehPrimo(num): #Função que define se o número é ou nao primo\n",
    "    if num < 2:\n",
    "        return False\n",
    "    else:\n",
    "        for n in range(2, num):\n",
    "            if num % n == 0:\n",
    "               return False\n",
    "        return True\n",
    "\n",
    "prim = [] # Criando lista dos primos\n",
    "\n",
    "def questao6(n): #Função da questao\n",
    "    if (ehPrimo(n)):\n",
    "        prim.append(n)\n",
    "        questao6(n-1)\n",
    "    elif (n == 0):\n",
    "        print(prim)\n",
    "        print (len(prim))\n",
    "        prim.clear()\n",
    "    else:\n",
    "        questao6(n-1)\n",
    "        \n",
    "questao6(50)\n",
    "questao6(77)\n",
    "questao6(15)"
   ]
  },
  {
   "cell_type": "code",
   "execution_count": null,
   "metadata": {},
   "outputs": [],
   "source": [
    " ##ideia:\n",
    "    ## Tentativa de usar array invés de lista\n",
    "def ContadorPrimos(n):\n",
    "    #primos = np.zeros((1,n))\n",
    "    primos = []\n",
    "    for i in range(1,n+1):\n",
    "        if (ehPrimo(i)):\n",
    "            # contador corte array qualquer\n",
    "            primos.append(i)\n",
    "    #np.sort(primos)\n",
    "    # print primos[primos!=0]\n",
    "    print (primos)\n",
    "    print ('Total de: ' + str(len(primos)))"
   ]
  },
  {
   "cell_type": "markdown",
   "metadata": {},
   "source": [
    "7 - [Funções + Algoritmo iterativo + Matplotlib plot]"
   ]
  },
  {
   "cell_type": "code",
   "execution_count": null,
   "metadata": {},
   "outputs": [],
   "source": [
    "def omega(T): ## função omega que recebe um período em dias\n",
    "    return 2*np.pi/T\n",
    "\n",
    "def soma_erro_total(pontos, T): \n",
    "    #Função soma erro total: recebe os dados {tempo, brilho e erro} e o período em dias. Já ajustado em chi**2\n",
    "    t, b, e = pontos.T\n",
    "    return np.sum(np.power((b - np.sin(omega(T)*t))/e, 2))\n",
    "\n",
    "def SomaDife(a, b): # Função que retorna uma tupla com a soma e diferença entre os parâmetros\n",
    "    return a + b, a - b\n",
    "\n",
    "def melhor_omega(pontos, mini, maxi, passi): \n",
    "    # Função melhor omega: recebe os dados {tempo,brilho e erro}, as componentes de um range.\n",
    "    infi = float('inf')\n",
    "    best_T = 0\n",
    "    mint = mini\n",
    "    maxt = maxi\n",
    "    passo = passi\n",
    "    arredonda = 0\n",
    "    while True:\n",
    "        ts = [round(i, arredonda) for i in np.arange(mint, maxt, passo)]\n",
    "        er = infi\n",
    "        for t in ts:\n",
    "            e = soma_erro_total(pontos, t)\n",
    "            if e < infi:                       #selecionando os menores erros\n",
    "                infi = e\n",
    "                best_T = t\n",
    "        if infi == er:\n",
    "            break\n",
    "        print('Melhor período: '+str(best_T)+' +/- '+str(infi))\n",
    "        maxt, mint = SomaDife(best_T, passo)\n",
    "        passo /= 10\n",
    "        maxt += passo\n",
    "        arredonda += 1\n",
    "    return omega(best_T)"
   ]
  },
  {
   "cell_type": "markdown",
   "metadata": {},
   "source": [
    "#### Desempacotando os dados das binárias e plotando"
   ]
  },
  {
   "cell_type": "code",
   "execution_count": null,
   "metadata": {},
   "outputs": [],
   "source": [
    "bin1 = np.loadtxt('binaria_eclipsante_1.dat')\n",
    "bin_1 = pd.DataFrame(data = bin1,columns = ['Tempo (dias)', 'Brilho Relativo','Erro (brilho real)'])\n",
    "bin2 = np.loadtxt('binaria_eclipsante_2.dat')\n",
    "bin_2 = pd.DataFrame(data = bin2,columns = ['Tempo (dias)', 'Brilho Relativo','Erro (brilho real)'])\n",
    "#bin_1.head()"
   ]
  },
  {
   "cell_type": "markdown",
   "metadata": {},
   "source": [
    " Binária 1:"
   ]
  },
  {
   "cell_type": "code",
   "execution_count": null,
   "metadata": {},
   "outputs": [],
   "source": [
    "bin1_t = bin_1['Tempo (dias)']\n",
    "bin1_b = bin_1['Brilho Relativo']\n",
    "bin1_e = bin_1['Erro (brilho real)']\n",
    "plt.errorbar(bin1_t, bin1_b, yerr=bin1_e, fmt='c-')\n",
    "plt.plot(bin1_t, bin1_b,'m.')\n",
    "plt.show()"
   ]
  },
  {
   "cell_type": "markdown",
   "metadata": {},
   "source": [
    " Binária 2:"
   ]
  },
  {
   "cell_type": "code",
   "execution_count": null,
   "metadata": {},
   "outputs": [],
   "source": [
    "bin2_t = bin_2['Tempo (dias)']\n",
    "bin2_b = bin_2['Brilho Relativo']\n",
    "bin2_e = bin_2['Erro (brilho real)']\n",
    "plt.errorbar(bin2_t, bin2_b, yerr=bin2_e, fmt='r-')\n",
    "plt.plot(bin2_t, bin2_b, 'k.')\n",
    "plt.show()"
   ]
  },
  {
   "cell_type": "markdown",
   "metadata": {},
   "source": [
    "- Salvando o melhor omega de ambas"
   ]
  },
  {
   "cell_type": "code",
   "execution_count": null,
   "metadata": {},
   "outputs": [],
   "source": [
    "w1 = melhor_omega(bin1, 1, 5, 1)\n",
    "print('\\n\\n')\n",
    "w2 = melhor_omega(bin2, 1, 500, 10)\n",
    "print('\\nOmegas: ')\n",
    "print(w1,w2)"
   ]
  },
  {
   "cell_type": "markdown",
   "metadata": {},
   "source": [
    "- Criando função sen(omega*t) de cada binária"
   ]
  },
  {
   "cell_type": "code",
   "execution_count": null,
   "metadata": {},
   "outputs": [],
   "source": [
    "from matplotlib.ticker import MultipleLocator"
   ]
  },
  {
   "cell_type": "code",
   "execution_count": null,
   "metadata": {},
   "outputs": [],
   "source": [
    "sen1 = np.arange(0, 12, 0.1)\n",
    "sen2 = np.arange(0, 800, 10)"
   ]
  },
  {
   "cell_type": "code",
   "execution_count": null,
   "metadata": {},
   "outputs": [],
   "source": [
    "f, a = plt.subplots(nrows=2, ncols=1, figsize=(10,10))\n",
    "\n",
    "a[0].plot(sen1, np.sin(w1*sen1), 'm-')\n",
    "a[0].errorbar(bin1_t, bin1_b, yerr=bin1_e, fmt='y-')\n",
    "a[0].plot(bin1_t, bin1_b, 'b^')\n",
    "a[0].grid(which='major', axis='x')\n",
    "a[0].set_title('Binária Eclipsante 1')\n",
    "a[0].set_xlabel('tempo [dias]')\n",
    "a[0].set_ylabel('brilho relativo')\n",
    "a[0].xaxis.set_major_locator(MultipleLocator(2*np.pi/w1))\n",
    "\n",
    "a[1].plot(sen2, np.sin(w2*sen2), 'r-') \n",
    "a[1].errorbar(bin2_t, bin2_b, yerr=bin2_e, fmt='c-')\n",
    "a[1].plot(bin2_t, bin2_b, 'g.')\n",
    "a[1].grid(which='major', axis='x')\n",
    "a[1].set_title('Binária Eclipsante 2')\n",
    "a[1].set_xlabel('tempo [dias]')\n",
    "a[1].set_ylabel('brilho relativo')\n",
    "a[1].xaxis.set_major_locator(MultipleLocator(2*np.pi/w2))\n",
    "\n",
    "\n",
    "f.suptitle('Binárias Eclipsantes')\n",
    "plt.show()"
   ]
  },
  {
   "cell_type": "markdown",
   "metadata": {},
   "source": [
    "**c)** Incluindo a fase na função ajustada:"
   ]
  },
  {
   "cell_type": "code",
   "execution_count": null,
   "metadata": {},
   "outputs": [],
   "source": [
    "%matplotlib widget\n",
    "import ipywidgets as widgets"
   ]
  },
  {
   "cell_type": "code",
   "execution_count": null,
   "metadata": {},
   "outputs": [],
   "source": [
    "f1, a1 = plt.subplots(figsize=(6, 4))\n",
    "a1.set_ylim([-1.5, 1.5])\n",
    "a1.grid(True)\n",
    "\n",
    "def slidersbin1sen(t):\n",
    "    return np.sin(w1*(sen1+t))\n",
    "\n",
    "@widgets.interact(t=(-18, 18, 0.5))\n",
    "def att1(t=0):\n",
    "    [l.remove() for l in a1.lines]\n",
    "    a1.plot(sen1, slidersbin1sen(t), 'm-')"
   ]
  },
  {
   "cell_type": "code",
   "execution_count": null,
   "metadata": {},
   "outputs": [],
   "source": [
    "f2, a2 = plt.subplots(figsize=(6, 4))\n",
    "a2.set_ylim([-1.5, 1.5])\n",
    "a2.grid(True)\n",
    "\n",
    "def slidersbin2sen(t):\n",
    "    return np.sin(w2*(sen2+t))\n",
    "\n",
    "@widgets.interact(t=(-720, 720, 10))\n",
    "def att1(t=0):\n",
    "    [l.remove() for l in a2.lines]\n",
    "    a2.plot(sen2, slidersbin2sen(t), 'r-')"
   ]
  },
  {
   "cell_type": "code",
   "execution_count": null,
   "metadata": {},
   "outputs": [],
   "source": []
  }
 ],
 "metadata": {
  "kernelspec": {
   "display_name": "Python 3",
   "language": "python",
   "name": "python3"
  },
  "language_info": {
   "codemirror_mode": {
    "name": "ipython",
    "version": 3
   },
   "file_extension": ".py",
   "mimetype": "text/x-python",
   "name": "python",
   "nbconvert_exporter": "python",
   "pygments_lexer": "ipython3",
   "version": "3.8.3"
  }
 },
 "nbformat": 4,
 "nbformat_minor": 4
}
