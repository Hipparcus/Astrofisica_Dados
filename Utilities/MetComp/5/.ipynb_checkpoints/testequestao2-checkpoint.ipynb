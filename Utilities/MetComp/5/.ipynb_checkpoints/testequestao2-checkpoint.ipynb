{
 "cells": [
  {
   "cell_type": "code",
   "execution_count": 1,
   "metadata": {},
   "outputs": [],
   "source": [
    "import numpy as np\n",
    "import pandas as pd\n",
    "import math\n",
    "import matplotlib.pyplot as plt\n",
    "import pymp\n",
    "import time\n",
    "import multiprocessing as mp\n",
    "from numba import jit, njit "
   ]
  },
  {
   "cell_type": "code",
   "execution_count": 2,
   "metadata": {},
   "outputs": [],
   "source": [
    "n_populacao = 100000000\n",
    "tamanhos_amostras = [1000,10000,100000]\n",
    "#colors = ['blue','orange','green']\n",
    "n_candidato_a = int(n_populacao*0.4) # Votos\n",
    "n_candidato_b = int(n_populacao*0.31) # Votos\n",
    "n_candidato_c = int(n_populacao*0.29) # Votos\n",
    "votos_a = np.repeat('a',n_candidato_a) #Representação dos votos\n",
    "votos_b = np.repeat('b',n_candidato_b) #de cada\n",
    "votos_c = np.repeat('c',n_candidato_c) #candidato\n",
    "votos_populacao = np.append(votos_a,np.append(votos_b,votos_c))\n",
    "for j in range(3):\n",
    "    np.random.shuffle(votos_populacao) #aleatorizar os votos"
   ]
  },
  {
   "cell_type": "code",
   "execution_count": 3,
   "metadata": {},
   "outputs": [],
   "source": [
    "def hdr_simple(array,p):\n",
    "    return np.array([np.quantile(array,(1-p)/2),np.quantile(array,1-(1-p)/2)])"
   ]
  },
  {
   "cell_type": "code",
   "execution_count": null,
   "metadata": {},
   "outputs": [],
   "source": [
    "amostras_p_bootstrap = [votos_populacao[np.random.randint(votos_populacao.size, size=i)] for i in tamanhos_amostras]\n",
    "n_resamples = 10000 #Cada uma das amostras, faremos n_resamples reamostragens\n",
    "\n",
    "bootstrap_dists = [[np.random.choice(amostras_p_bootstrap[s], size=amostras_p_bootstrap[s].size, replace=True)\n",
    "                    for i in range(n_resamples)] \n",
    "                   for s in range(3)] \n",
    "#distribuição bootstrap -- > pega amostra de 1.000 pessoas e sorteio (c reposição) 10.000 vezes e crio 10k novas amostras\n",
    "# Verificar a porcentagem de cada candidato\n",
    "bsporc_a = np.array([np.array([(bootstrap_dists[s][i][bootstrap_dists[s][i]==0].size/tamanhos_amostras[s])*100\n",
    "                      for i in range(n_resamples)]) \n",
    "            for s in range(3)])\n",
    "bsporc_b = np.array([np.array([(bootstrap_dists[s][i][bootstrap_dists[s][i]==1].size/tamanhos_amostras[s])*100\n",
    "                      for i in range(n_resamples)]) \n",
    "            for s in range(3)])\n",
    "bsporc_c = np.array([np.array([(bootstrap_dists[s][i][bootstrap_dists[s][i]==2].size/tamanhos_amostras[s])*100\n",
    "                      for i in range(n_resamples)]) \n",
    "            for s in range(3)])\n",
    "#Proporção --> contando quantas pessoas votaram no tal candidato em cada nova-amostragem que criamos acima\n",
    "\n",
    "candidatos = np.array([bsporc_a, bsporc_b, bsporc_c])\n",
    "error_ranges_bootstrap_05 = [hdr_simple(bootstrap_prop[s],0.95) for s in candidatos]"
   ]
  },
  {
   "cell_type": "code",
   "execution_count": null,
   "metadata": {},
   "outputs": [],
   "source": [
    "#Obter amostras e resultados diretamente da população original.\n",
    "amostras_pop = [[np.random.choice(votos_populacao, size=s, replace=True)\n",
    "                 for i in range(n_resamples)]\n",
    "                for s in tamanhos_amostras]\n",
    "\n",
    "porc_a = np.array([np.array([(amostras_pop[s][i][amostras_pop[s][i]==0].size/tamanhos_amostras[s])*100\n",
    "                    for i in range(n_amostras)]) \n",
    "          for s in range(3)])\n",
    "porc_b = np.array([np.array([(amostras_pop[s][i][amostras_pop[s][i]==1].size/tamanhos_amostras[s])*100\n",
    "                    for i in range(n_amostras)]) \n",
    "          for s in range(3)])\n",
    "porc_c = np.array([np.array([(amostras_pop[s][i][amostras_pop[s][i]==2].size/tamanhos_amostras[s])*100\n",
    "                    for i in range(n_amostras)]) \n",
    "          for s in range(3)])\n",
    "popabc = np.array([porc_a, porc_b, porc_c])\n",
    "errorpop = np.array([[hdr_simple(pop[s], 0.95) for s in range(3)] for pop in popabc])"
   ]
  },
  {
   "cell_type": "code",
   "execution_count": null,
   "metadata": {},
   "outputs": [],
   "source": [
    "##Plotar gráficos\n",
    "cores = [['darkblue', 'mediumblue', 'blue'],\n",
    "         ['darkslategrey', 'darkcyan', 'cyan'],\n",
    "         ['maroon', 'firebrick', 'brown']]\n",
    "popporc = [40, 31, 29]\n",
    "candidatos = 'a b c'.split()\n",
    "\n",
    "fig, axes = plt.subplots(nrows=3, ncols=2, figsize=(15, 9.5))\n",
    "for i, ax in enumerate(axes):\n",
    "    for x in range(24, 46):\n",
    "        ax[1].axvline(x=x, color='grey',alpha=0.1)\n",
    "        ax[0].axvline(x=x, color='grey',alpha=0.1)\n",
    "    for s in range(3):\n",
    "        ax[0].hist(abc[i][s], color=cores[i][s])\n",
    "        ax[0].axvline(x=errorbs[i][s][0], color=cores[i][s], ls='--')\n",
    "        ax[0].axvline(x=errorbs[i][s][1], color=cores[i][s], ls='--')\n",
    "        ax[1].hist(popabc[i][s], color=cores[i][s])\n",
    "        ax[1].axvline(x=errorpop[i][s][0], color=cores[i][s], ls='--')\n",
    "        ax[1].axvline(x=errorpop[i][s][1], color=cores[i][s], ls='--')\n",
    "    ax[0].axvline(x=popporc[i], color='k')\n",
    "    ax[1].axvline(x=popporc[i], color='k')\n",
    "    ax[0].set_title(f'Candidato {candidatos[i]} - bootstrap')\n",
    "    ax[1].set_title(f'Candidato {candidatos[i]} - população')\n",
    "plt.tight_layout()\n",
    "plt.show()"
   ]
  }
 ],
 "metadata": {
  "kernelspec": {
   "display_name": "Python 3",
   "language": "python",
   "name": "python3"
  },
  "language_info": {
   "codemirror_mode": {
    "name": "ipython",
    "version": 3
   },
   "file_extension": ".py",
   "mimetype": "text/x-python",
   "name": "python",
   "nbconvert_exporter": "python",
   "pygments_lexer": "ipython3",
   "version": "3.8.3"
  }
 },
 "nbformat": 4,
 "nbformat_minor": 4
}
