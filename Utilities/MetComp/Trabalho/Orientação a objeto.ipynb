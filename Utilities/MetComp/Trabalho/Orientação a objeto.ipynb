{
 "cells": [
  {
   "cell_type": "code",
   "execution_count": 1,
   "metadata": {},
   "outputs": [
    {
     "ename": "TabError",
     "evalue": "inconsistent use of tabs and spaces in indentation (exemplo.py, line 12)",
     "output_type": "error",
     "traceback": [
      "Traceback \u001b[0;36m(most recent call last)\u001b[0m:\n",
      "  File \u001b[1;32m\"/home/laidler/anaconda3/lib/python3.8/site-packages/IPython/core/interactiveshell.py\"\u001b[0m, line \u001b[1;32m3427\u001b[0m, in \u001b[1;35mrun_code\u001b[0m\n    exec(code_obj, self.user_global_ns, self.user_ns)\n",
      "\u001b[0;36m  File \u001b[0;32m\"<ipython-input-1-5a41cc6769f7>\"\u001b[0;36m, line \u001b[0;32m2\u001b[0;36m, in \u001b[0;35m<module>\u001b[0;36m\u001b[0m\n\u001b[0;31m    from exemplo import ajuste\u001b[0m\n",
      "\u001b[0;36m  File \u001b[0;32m\"/home/laidler/Documentos/Thiago/MetComp/Trabalho/exemplo.py\"\u001b[0;36m, line \u001b[0;32m12\u001b[0m\n\u001b[0;31m    while (2*abs((valori-valorf)/(valori+valorf))>tolerancia):\u001b[0m\n\u001b[0m                                                              ^\u001b[0m\n\u001b[0;31mTabError\u001b[0m\u001b[0;31m:\u001b[0m inconsistent use of tabs and spaces in indentation\n"
     ]
    }
   ],
   "source": [
    "from pessoa import Pessoa #importando a classe dentro do modulo\n",
    "from exemplo import ajuste"
   ]
  },
  {
   "cell_type": "code",
   "execution_count": null,
   "metadata": {},
   "outputs": [],
   "source": [
    "Ge = Pessoa('Geralt de Rívia','11534635758','? anos')"
   ]
  },
  {
   "cell_type": "code",
   "execution_count": null,
   "metadata": {},
   "outputs": [],
   "source": [
    "print(Ge.nome)\n",
    "print(Ge.cpf)\n",
    "print(Ge.idade)"
   ]
  },
  {
   "cell_type": "code",
   "execution_count": null,
   "metadata": {},
   "outputs": [],
   "source": [
    "Thiago.falar('Vai se fuder cara!')"
   ]
  },
  {
   "cell_type": "code",
   "execution_count": null,
   "metadata": {},
   "outputs": [],
   "source": [
    "Matheus = Pessoa('Matheus','asf4099142','55 anos')"
   ]
  },
  {
   "cell_type": "code",
   "execution_count": null,
   "metadata": {},
   "outputs": [],
   "source": [
    "Matheus.falar('Coe viado, calma ai')"
   ]
  },
  {
   "cell_type": "code",
   "execution_count": null,
   "metadata": {},
   "outputs": [],
   "source": [
    "def verifi(p):\n",
    "    if len(p.cpf) != 11:\n",
    "        print('Cpf errado\\n')\n",
    "    else:\n",
    "        print('Cpf Correto!\\n')\n",
    "                    "
   ]
  },
  {
   "cell_type": "code",
   "execution_count": null,
   "metadata": {},
   "outputs": [],
   "source": [
    "verifi(Thiago)"
   ]
  },
  {
   "cell_type": "code",
   "execution_count": null,
   "metadata": {},
   "outputs": [],
   "source": [
    "verifi(Matheus)"
   ]
  },
  {
   "cell_type": "code",
   "execution_count": null,
   "metadata": {},
   "outputs": [],
   "source": [
    "Ge.despedir()"
   ]
  },
  {
   "cell_type": "code",
   "execution_count": null,
   "metadata": {},
   "outputs": [],
   "source": [
    "class Computer:\n",
    "\tdef __init__(self, marca, memoria_ram, placa_de_video):\n",
    "\t\tself.marca = marca\n",
    "\t\tself.memoria_ram = memoria_ram\n",
    "\t\tself.placa_de_video = placa_de_video\n",
    "\tpass\n",
    "\n",
    "computador1 = Computer('Asus','8gb','Nvidia')\n",
    "computador2 = Computer('Dell','4gb','ATM')\n",
    "computador3 = Computer('Acer','16gb','GeForce')\n",
    "print(computador1.marca,computador2.marca,computador3.marca)\n",
    "print(computador1.memoria_ram,computador2.memoria_ram,computador3.memoria_ram)\n",
    "print(computador1.placa_de_video,computador2.placa_de_video,computador3.placa_de_video)"
   ]
  },
  {
   "cell_type": "code",
   "execution_count": null,
   "metadata": {},
   "outputs": [],
   "source": [
    "class Computer:\n",
    "\tdef __init__(self, marca, memoria_ram, placa_de_video):\n",
    "\t\tself.marca = marca\n",
    "\t\tself.memoria_ram = memoria_ram\n",
    "\t\tself.placa_de_video = placa_de_video\n",
    "\tdef Ligar(self): ##Metodo1\n",
    "\t\tprint('estou ligando')\n",
    "\tdef Desligar(self): ##Metodo2\n",
    "\t\tprint('estou desligando')"
   ]
  },
  {
   "cell_type": "code",
   "execution_count": null,
   "metadata": {},
   "outputs": [],
   "source": [
    "class Pessoa:\n",
    "\tdef __init__(self, nome, cpf, idade):\n",
    "\t\tself.nome = nome\n",
    "\t\tself.cpf = cpf\n",
    "\t\tself.idade = idade\n",
    "\tdef falar(self,dialogo):\n",
    "\t\tprint('\\n>'+self.nome+' diz: '+ dialogo)\n",
    "\tdef despedir(self):\n",
    "\t\tprint(f'{self.nome} diz:\\n Tchaul...\\n\\n')"
   ]
  },
  {
   "cell_type": "code",
   "execution_count": null,
   "metadata": {},
   "outputs": [],
   "source": [
    "Aplicando a classe 'Pessoa' do modulo 'pessoa' no Terminal:\n",
    "\\begin{lstlisting}\n",
    "from pessoa import Pessoa\n",
    "Ge = Pessoa('Geralt de Rivia','11534635758','? anos')\n",
    "print(Ge.nome)\n",
    "print(Ge.cpf)\n",
    "print(Ge.idade)\n",
    "Ge.despedir()\n",
    "\\end{lstlisting}\n",
    "\\begin{lstlisting}\n",
    ">Geralt de Rivia\n",
    ">11534635758\n",
    ">? anos\n",
    ">Geralt de Rivia diz:\n",
    " Tchaul...\n",
    "\\end{lstlisting}"
   ]
  },
  {
   "cell_type": "code",
   "execution_count": null,
   "metadata": {},
   "outputs": [],
   "source": []
  },
  {
   "cell_type": "code",
   "execution_count": null,
   "metadata": {},
   "outputs": [],
   "source": []
  },
  {
   "cell_type": "code",
   "execution_count": null,
   "metadata": {},
   "outputs": [],
   "source": []
  },
  {
   "cell_type": "code",
   "execution_count": null,
   "metadata": {},
   "outputs": [],
   "source": []
  },
  {
   "cell_type": "code",
   "execution_count": null,
   "metadata": {},
   "outputs": [],
   "source": [
    "class ajuste:\n",
    "\tdef __init__(self,y,x,i,f,p,tol,er = 1):\n",
    "\t\tself.y = obsy\n",
    "\t\tself.x = obx\n",
    "\t\tself.i = valori\n",
    "\t\tself.f = valorf\n",
    "\t\tself.p = passo\n",
    "\t\tself.tol = tolerancia\n",
    "\t\tself.er = erro\n",
    "\tdef mmq(obsy,obsx,valori,valorf,passo,tolerancia):\n",
    "\t\titera = 0 \n",
    "    \twhile (2*abs((valori-valorf)/(valori+valorf))>tolerancia):\n",
    "        \t\tmmq_array = np.zeros(passo) \n",
    "        \t\tateste = np.linspace(valori,valorf,passo) \n",
    "        \t\tfor i in range(passo):\n",
    "            \t\t\tmmq_array[i] = np.sum((obsy-ateste[i]*obsx)**2) \n",
    "        \t\tidx_min = np.argmin(mmq_array) \n",
    "        \t\tvalori,ajuste,valorf = ateste[idx_min-1:idx_min+2] \n",
    "        \t\tprint ('melhor fit - iter: '+ str(itera)+'='+str(ajuste))\n",
    "        \t\titera=itera+1\n",
    "    \t\treturn ajuste\n",
    "\tdef chi_quad(obsy,obsx,erro,valori,valorf,passo,tolerancia):\n",
    "    \t\titeracao = 0 \n",
    "    \t\twhile (2*abs((valori-valorf)/(valori+valorf)) > tolerancia):\n",
    "        \t\tchi2_array = np.zeros(passo) \n",
    "        \t\tw_range = np.linspace(valori,valorf,passo)\n",
    "        \t\tfor i in range(passo):\n",
    "            \t\t\tchi2_array[i] = np.sum(((obsy-np.sin(w_range[i]*obsx))/erro)**2) \n",
    "        \t\tidx_min = np.argmin(chi2_array) \n",
    "        \t\tvalori,ajuste,valorf = w_range[idx_min-1:idx_min+2] \n",
    "       \t\t\tprint('best fit - iter: '+str(iteracao)+' - T = ', 2*np.pi/ajuste)\n",
    "        \t\titeracao += 1\n",
    "    \t\treturn ajuste "
   ]
  }
 ],
 "metadata": {
  "kernelspec": {
   "display_name": "Python 2",
   "language": "python",
   "name": "python2"
  },
  "language_info": {
   "codemirror_mode": {
    "name": "ipython",
    "version": 2
   },
   "file_extension": ".py",
   "mimetype": "text/x-python",
   "name": "python",
   "nbconvert_exporter": "python",
   "pygments_lexer": "ipython2",
   "version": "2.7.17"
  }
 },
 "nbformat": 4,
 "nbformat_minor": 4
}
