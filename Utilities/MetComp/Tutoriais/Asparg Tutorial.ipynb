{
 "cells": [
  {
   "cell_type": "markdown",
   "metadata": {},
   "source": [
    "# Asparg\n",
    "#### Como funciona"
   ]
  },
  {
   "cell_type": "markdown",
   "metadata": {},
   "source": [
    "Fazendo um script em python, para rodar pelo terminal direto."
   ]
  },
  {
   "cell_type": "markdown",
   "metadata": {},
   "source": [
    "### Método add_argument()\n",
    "Define como um argumento de linha de comando deve ser parseado."
   ]
  },
  {
   "cell_type": "markdown",
   "metadata": {},
   "source": [
    "1. Abra o terminal, crie um programa .py: "
   ]
  },
  {
   "cell_type": "raw",
   "metadata": {},
   "source": [
    "gedit 'nome do arquivo'.py"
   ]
  },
  {
   "cell_type": "markdown",
   "metadata": {},
   "source": [
    "2. Criemos o programinha, digamos que para calcular a area de um terreno. A largura e comprimento dadas pelo usuario no terminal"
   ]
  },
  {
   "cell_type": "raw",
   "metadata": {},
   "source": [
    "#!/usr/bin/env python3\n",
    "import argparse\n",
    "\n",
    "parser = argparse.ArgumentParser(description = 'Calcular a área de um terreno')\n",
    "#adicionar os argumentos ao script. A ordem deles importa! help = ajuda com o codigo pro user\n",
    "parser.add_argument('largura', type = int, help = 'largura do terreno') \n",
    "parser.add_argument('comprimento', type = int, help = 'comprimento do terreno')\n",
    "args = parser.parse_args() #Pego os dados digitados e armazeno na variavel args\n",
    "\n",
    "def area(larg,comp):\n",
    "  a = larg*comp\n",
    "  return a\n",
    "\n",
    "if __name__=='__main__':\n",
    "  print(\"A área do terreno é de %s metros quadrados\" %area(args.largura,args.comprimento))"
   ]
  },
  {
   "cell_type": "markdown",
   "metadata": {},
   "source": [
    "*Lembre-se de começar com #!/usr/bin/env python3*  "
   ]
  },
  {
   "cell_type": "markdown",
   "metadata": {},
   "source": [
    "3. Salve e abra-o no terminal com o comando:"
   ]
  },
  {
   "cell_type": "raw",
   "metadata": {},
   "source": [
    "python3 'nome'.py argumento1 argumento 2"
   ]
  },
  {
   "cell_type": "markdown",
   "metadata": {},
   "source": [
    "*os argumentos são dados do msm jeito escrita acima, separados por vírgula. Tenha certeza de que o tipo de argumento é o mesmo do programado.*"
   ]
  },
  {
   "cell_type": "markdown",
   "metadata": {},
   "source": [
    "**OBS**: O uso do *if __name__=='__main__':* tem o mesmo sentido da utilizada na função main() quando programavamos no IDLE"
   ]
  },
  {
   "cell_type": "markdown",
   "metadata": {},
   "source": [
    "**OBS²**: Pode ser útil abrir o conda com 'conda activate' antes de tentar abrir o script"
   ]
  },
  {
   "cell_type": "markdown",
   "metadata": {},
   "source": [
    "4. o que acontece se não for dado nenhum argumento"
   ]
  },
  {
   "cell_type": "markdown",
   "metadata": {},
   "source": [
    "Será mostrado no terminal uma mensagem mais ou menos assim: \n",
    "    "
   ]
  },
  {
   "cell_type": "raw",
   "metadata": {},
   "source": [
    "    usage 'nome'.py [-h] 'nome do argumento1' 'nome do argumento2'\n",
    "    error: the following arguments are required: 'nome do argumento1' 'nome do argumento2'"
   ]
  },
  {
   "cell_type": "markdown",
   "metadata": {},
   "source": [
    "O proprio asparg já permite mostrar os argumentos necessários seguindo seu código"
   ]
  },
  {
   "cell_type": "markdown",
   "metadata": {},
   "source": [
    "Se no lugar do comando for digitado -h, será printado a *help* do seu script"
   ]
  },
  {
   "cell_type": "markdown",
   "metadata": {},
   "source": [
    "5. Para que qualquer ordem os argumentos sejam reconhecidos corretamente"
   ]
  },
  {
   "cell_type": "markdown",
   "metadata": {},
   "source": [
    "Podemos alterar o script acima da seguinte maneira:"
   ]
  },
  {
   "cell_type": "raw",
   "metadata": {},
   "source": [
    "(...)\n",
    "parser = argparse.ArgumentParser(description = 'Calcular a área de um terreno')\n",
    "#adicionar os argumentos ao script. A ordem deles importa! help = ajuda com o codigo pro user\n",
    "parser.add_argument('-l','--largura', type = int, help = 'largura do terreno') \n",
    "parser.add_argument('-c','--comprimento', type = int, help = 'comprimento do terreno')\n",
    "args = parser.parse_args() #Pego os dados digitados e armazeno na variavel args\n",
    "(...)"
   ]
  },
  {
   "cell_type": "markdown",
   "metadata": {},
   "source": [
    "Ao adicionar **' -l ' , ' --largura '** e **' -c ' , ' --comprimento '** na leitura dos argumentos, estamos atribuindo cada argumento ao **'- letrinha'** que quisermos. Isso signfica que quando rodarmos o script precisaremos especificar qual das variaveis estamos atribuindo o argumento."
   ]
  },
  {
   "cell_type": "raw",
   "metadata": {},
   "source": [
    "python3 'nome'.py -l 10 -c 15"
   ]
  },
  {
   "cell_type": "markdown",
   "metadata": {},
   "source": [
    "No caso, 10 será a largura e 15 comprimento. Esta ordem, agora, pode ser invertida."
   ]
  },
  {
   "cell_type": "markdown",
   "metadata": {},
   "source": [
    "Também poderiamos utilizar o argumento por extenso, como **'--largura valor'**. Mas nesse caso não é prático."
   ]
  },
  {
   "cell_type": "code",
   "execution_count": null,
   "metadata": {},
   "outputs": [],
   "source": []
  }
 ],
 "metadata": {
  "kernelspec": {
   "display_name": "Python 3",
   "language": "python",
   "name": "python3"
  },
  "language_info": {
   "codemirror_mode": {
    "name": "ipython",
    "version": 3
   },
   "file_extension": ".py",
   "mimetype": "text/x-python",
   "name": "python",
   "nbconvert_exporter": "python",
   "pygments_lexer": "ipython3",
   "version": "3.8.3"
  }
 },
 "nbformat": 4,
 "nbformat_minor": 4
}
