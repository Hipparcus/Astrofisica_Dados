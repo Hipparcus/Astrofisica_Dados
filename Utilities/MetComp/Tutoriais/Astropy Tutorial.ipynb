{
 "cells": [
  {
   "cell_type": "markdown",
   "metadata": {},
   "source": [
    "# Astropy "
   ]
  },
  {
   "cell_type": "markdown",
   "metadata": {},
   "source": [
    "###### Lembrando\n",
    "\n",
    "            1. Ascenção Reta \n",
    "                (ra) = arco medido ao longo do equador celeste\n",
    "            2. Declinação \n",
    "                (dec) = arco medido perpendicularmente ao ra"
   ]
  },
  {
   "cell_type": "code",
   "execution_count": 7,
   "metadata": {},
   "outputs": [
    {
     "name": "stdout",
     "output_type": "stream",
     "text": [
      "<SkyCoord (ICRS): (ra, dec) in deg\n",
      "    (9.81625, 0.88806)>\n",
      "9d48m58.5s\n",
      "0d53m17.016s\n"
     ]
    },
    {
     "data": {
      "text/plain": [
       "<SkyCoord (Galactic): (l, b) in deg\n",
       "    (116.47556813, -61.83099472)>"
      ]
     },
     "execution_count": 7,
     "metadata": {},
     "output_type": "execute_result"
    }
   ],
   "source": [
    "# Third-party dependencies\n",
    "from astropy import units as u\n",
    "from astropy.coordinates import SkyCoord\n",
    "import numpy as np\n",
    "# Set up matplotlib and use a nicer set of plot parameters\n",
    "from astropy.visualization import astropy_mpl_style\n",
    "import matplotlib.pyplot as plt\n",
    "from astropy.coordinates.tests.utils import randomly_sample_sphere\n",
    "\n",
    "plt.style.use(astropy_mpl_style)\n",
    "%matplotlib inline\n",
    "\n",
    "hcg7_center = SkyCoord(9.81625*u.deg, 0.88806*u.deg, frame='icrs')  # using degrees directly  (ra,dec,frame)\n",
    "## Frame icrs é default. É o frame que mede em ra e dec. Podemos utilizar as coordenadas galacticais, \n",
    "print(hcg7_center)\n",
    "\n",
    "print(hcg7_center.ra)\n",
    "print(hcg7_center.dec)\n",
    "\n",
    "##Passando pra coordenadas galacticas\n",
    "hcg7_center.galactic"
   ]
  },
  {
   "cell_type": "markdown",
   "metadata": {},
   "source": [
    "*Criando uma lista de 1000 localizações aleatórias no céu*"
   ]
  },
  {
   "cell_type": "code",
   "execution_count": 6,
   "metadata": {},
   "outputs": [],
   "source": [
    "ra, dec, _ = randomly_sample_sphere(1000)\n",
    "coos = SkyCoord(ra, dec)"
   ]
  },
  {
   "cell_type": "markdown",
   "metadata": {},
   "source": [
    "## Transformando os frames para utilizar altitude-azimute (\"AltAz\")"
   ]
  },
  {
   "cell_type": "markdown",
   "metadata": {},
   "source": [
    "    É muito mais útil para observadores ter as informações convertidas para o ponto de observação, a terra. A escolha mais comum é a da Altitude-Azimute (AltAz). Antes é necessário especificar ambos, onde e quando queremos observar.\n",
    "    Precisaremos importar alguns modulos a mais também:"
   ]
  },
  {
   "cell_type": "code",
   "execution_count": 11,
   "metadata": {},
   "outputs": [],
   "source": [
    "from astropy.coordinates import EarthLocation\n",
    "from astropy.time import Time\n",
    "from astropy.coordinates import AltAz"
   ]
  },
  {
   "cell_type": "markdown",
   "metadata": {},
   "source": [
    "*Usando como exemplo a localização de Kitt Peak National Observatory,  Arizona*"
   ]
  },
  {
   "cell_type": "code",
   "execution_count": 9,
   "metadata": {},
   "outputs": [],
   "source": [
    "kitt_peak = EarthLocation(lat='31d57.5m', lon='-111d35.8m', height=2096*u.m)"
   ]
  },
  {
   "cell_type": "markdown",
   "metadata": {},
   "source": [
    "**OBS**: Há alguns lugares conhecidos, as quais podemos pesquisar pelo nome. No caso, poderiamos simplesmente utilizar *kitt_peak = EarthLocation.of_site('Kitt Peak')* . \n",
    "    Para ver a lista destes lugares, digite *EarthLocation.get_site_names()*"
   ]
  },
  {
   "cell_type": "code",
   "execution_count": 10,
   "metadata": {},
   "outputs": [
    {
     "data": {
      "text/latex": [
       "$(2225015.3, -5440016.4, -2481631.3) \\; \\mathrm{m}$"
      ],
      "text/plain": [
       "<EarthLocation (2225015.30883296, -5440016.41799762, -2481631.27428014) m>"
      ]
     },
     "execution_count": 10,
     "metadata": {},
     "output_type": "execute_result"
    }
   ],
   "source": [
    "alma = EarthLocation.of_site('ALMA') \n",
    "alma"
   ]
  },
  {
   "cell_type": "markdown",
   "metadata": {},
   "source": [
    "    Vamos checar a altitude de algum objeto no horário 1AM UTC (6 PM AZ)."
   ]
  },
  {
   "cell_type": "code",
   "execution_count": 21,
   "metadata": {},
   "outputs": [
    {
     "name": "stdout",
     "output_type": "stream",
     "text": [
      "<AltAz Frame (obstime=2010-12-21 01:00:00.000, location=(-1994310.09211632, -5037908.60633759, 3357621.75212217) m, pressure=0.0 hPa, temperature=0.0 deg_C, relative_humidity=0.0, obswl=1.0 micron)>\n"
     ]
    }
   ],
   "source": [
    "observing_time = Time('2010-12-21 1:00')\n",
    "#Criando objeto frame AltAz seguindo o horário requisitado\n",
    "aa = AltAz(location=kitt_peak, obstime=observing_time)\n",
    "print(aa)"
   ]
  },
  {
   "cell_type": "markdown",
   "metadata": {},
   "source": [
    "Agora podemos transformar nossas coordenadas em ICRS e passar para AltAz, no tempo requisitado."
   ]
  },
  {
   "cell_type": "code",
   "execution_count": 14,
   "metadata": {},
   "outputs": [
    {
     "data": {
      "text/plain": [
       "<SkyCoord (ICRS): (ra, dec) in deg\n",
       "    (9.81625, 0.88806)>"
      ]
     },
     "execution_count": 14,
     "metadata": {},
     "output_type": "execute_result"
    }
   ],
   "source": [
    "hcg7_center.transform_to(aa)\n",
    "hcg7_center"
   ]
  },
  {
   "cell_type": "code",
   "execution_count": 16,
   "metadata": {},
   "outputs": [
    {
     "data": {
      "text/latex": [
       "$55^\\circ03{}^\\prime44.905{}^{\\prime\\prime}$"
      ],
      "text/plain": [
       "<Latitude 55.0624736 deg>"
      ]
     },
     "execution_count": 16,
     "metadata": {},
     "output_type": "execute_result"
    }
   ],
   "source": [
    "#Verificando apenas a altitude\n",
    "hcg7_center.transform_to(aa).alt"
   ]
  },
  {
   "cell_type": "markdown",
   "metadata": {},
   "source": [
    "Isso nos diz que são 55° as 6 da tarde (PM), mas isso é meio cedo pra observar. Poderíamos tentar vários horários por vez para verificar se há massas de ar quando mais escuro. Para isso podemos criar um plot de ar:"
   ]
  },
  {
   "cell_type": "markdown",
   "metadata": {},
   "source": [
    "## Determinando e plotando a altitude/azimute de um objeto celestial"
   ]
  },
  {
   "cell_type": "code",
   "execution_count": null,
   "metadata": {},
   "outputs": [],
   "source": []
  }
 ],
 "metadata": {
  "kernelspec": {
   "display_name": "Python 3",
   "language": "python",
   "name": "python3"
  },
  "language_info": {
   "codemirror_mode": {
    "name": "ipython",
    "version": 3
   },
   "file_extension": ".py",
   "mimetype": "text/x-python",
   "name": "python",
   "nbconvert_exporter": "python",
   "pygments_lexer": "ipython3",
   "version": "3.8.3"
  }
 },
 "nbformat": 4,
 "nbformat_minor": 4
}
