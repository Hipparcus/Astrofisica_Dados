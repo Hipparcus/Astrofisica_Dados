{
 "cells": [
  {
   "cell_type": "code",
   "execution_count": 1,
   "metadata": {},
   "outputs": [],
   "source": [
    "import numpy as np"
   ]
  },
  {
   "cell_type": "code",
   "execution_count": 5,
   "metadata": {},
   "outputs": [
    {
     "name": "stdout",
     "output_type": "stream",
     "text": [
      "[1 2 3 4 5]\n",
      "1\n"
     ]
    }
   ],
   "source": [
    "a = np.array([1,2,3,4,5])\n",
    "print(a)\n",
    "type(a)\n",
    "print(a.ndim)"
   ]
  },
  {
   "cell_type": "markdown",
   "metadata": {},
   "source": [
    "#### Array Bidimensional"
   ]
  },
  {
   "cell_type": "code",
   "execution_count": 3,
   "metadata": {},
   "outputs": [
    {
     "name": "stdout",
     "output_type": "stream",
     "text": [
      "[[1 2 3]\n",
      " [4 5 6]]\n"
     ]
    }
   ],
   "source": [
    "b = np.array([[1,2,3],[4,5,6]])   #Matriz de duas linhas e tres colunas\n",
    "print(b)"
   ]
  },
  {
   "cell_type": "markdown",
   "metadata": {},
   "source": [
    "Descobrindo dimensao do array"
   ]
  },
  {
   "cell_type": "code",
   "execution_count": 4,
   "metadata": {},
   "outputs": [
    {
     "name": "stdout",
     "output_type": "stream",
     "text": [
      "2\n"
     ]
    }
   ],
   "source": [
    "print(b.ndim)"
   ]
  },
  {
   "cell_type": "markdown",
   "metadata": {},
   "source": [
    "Formato da array. Quantas linhas e colunas"
   ]
  },
  {
   "cell_type": "code",
   "execution_count": 9,
   "metadata": {},
   "outputs": [
    {
     "name": "stdout",
     "output_type": "stream",
     "text": [
      "(2, 3)\n",
      "(5,)\n",
      "2\n"
     ]
    }
   ],
   "source": [
    "print(b.shape)\n",
    "print(a.shape)\n",
    "print(len(b)) ##tamanho da lista total array b"
   ]
  },
  {
   "cell_type": "markdown",
   "metadata": {},
   "source": [
    "Funcoes Array"
   ]
  },
  {
   "cell_type": "code",
   "execution_count": 18,
   "metadata": {},
   "outputs": [
    {
     "name": "stdout",
     "output_type": "stream",
     "text": [
      "[0 1 2 3 4 5 6 7 8 9]\n",
      "[ 0. 10.]\n",
      "[1.         2.28571429 3.57142857 4.85714286 6.14285714 7.42857143\n",
      " 8.71428571]\n"
     ]
    }
   ],
   "source": [
    "c = np.arange(0,101,1) #range em array. no caso, lista 0 até 100.  (inicio,fim,passo) -> nao inclui o numero do fim\n",
    "ca = np.arange(1,100,2)\n",
    "cb = np.arange(10)\n",
    "print(cb)\n",
    "\n",
    "d = np.linspace(0,10,2) \n",
    "#Diferente do range, essa funcao cria uma lista tendo inicio e fim fixos e o 'passo' é o \n",
    "# numero de elementos entre eles (contando c eles mesmos)\n",
    "print(d)\n",
    "da = np.linspace(1,20,10)\n",
    "\n",
    "#OBS: há como adicionar um quarto parametro nessa funcao com endpoint=False, excluindo o ultimo elemento\n",
    "db = np.linspace(1,10,7,endpoint = False)\n",
    "print(db)"
   ]
  },
  {
   "cell_type": "markdown",
   "metadata": {},
   "source": [
    "### Arrays comuns na ciencia de dados"
   ]
  },
  {
   "cell_type": "code",
   "execution_count": 29,
   "metadata": {},
   "outputs": [
    {
     "name": "stdout",
     "output_type": "stream",
     "text": [
      "matriz um:\n",
      "[1. 1. 1. 1. 1.]\n",
      "[[1. 1. 1.]\n",
      " [1. 1. 1.]\n",
      " [1. 1. 1.]]\n",
      "\n",
      "\n",
      "matriz zero:\n",
      "[[0. 0.]\n",
      " [0. 0.]]\n"
     ]
    }
   ],
   "source": [
    "#matriz de 1   : 1linha e 5colunas\n",
    "t = np.ones(5)\n",
    "print('matriz um:\\n'+ str(t))\n",
    "#matriz de 1: 3linhas e 3 colunas  a funcao pede o .shape da matriz\n",
    "ta = np.ones((3,3))\n",
    "print(ta)\n",
    "print('\\n')\n",
    "#matriz zero\n",
    "m = np.zeros((2,2))\n",
    "print('matriz zero:\\n' + str(m))"
   ]
  },
  {
   "cell_type": "code",
   "execution_count": 33,
   "metadata": {},
   "outputs": [
    {
     "name": "stdout",
     "output_type": "stream",
     "text": [
      "Funcao cria array com valores aleatorios\n",
      "Não precisa utilizar .shape\n",
      "\n",
      "[0.81433163 0.10200927 0.89281531 0.26602492]\n",
      "\n",
      "[[0.96212004 0.47349676 0.86195606]\n",
      " [0.83587458 0.63904144 0.63220635]\n",
      " [0.5241363  0.15226553 0.96713574]]\n"
     ]
    }
   ],
   "source": [
    "print('Funcao cria array com valores aleatorios\\nNão precisa utilizar .shape\\n')\n",
    "e = np.random.rand(4) #elementos aleatorios entre 0 e 1\n",
    "print(e)\n",
    "#matriz 3linhas e 3 colunas com elementos aleatorios. Não é preciso colocar shape como parametro!\n",
    "ea = np.random.rand(3,3)\n",
    "print('\\n'+str(ea))"
   ]
  },
  {
   "cell_type": "code",
   "execution_count": 36,
   "metadata": {},
   "outputs": [
    {
     "name": "stdout",
     "output_type": "stream",
     "text": [
      "Funcao cria array matriz identidade\n",
      "\n",
      "[[1. 0. 0. 0.]\n",
      " [0. 1. 0. 0.]\n",
      " [0. 0. 1. 0.]\n",
      " [0. 0. 0. 1.]]\n",
      "\n",
      "Funcao cria array como matriz diagonal\n",
      "\n",
      "[[1 0 0 0]\n",
      " [0 2 0 0]\n",
      " [0 0 3 0]\n",
      " [0 0 0 4]]\n"
     ]
    }
   ],
   "source": [
    "print('Funcao cria array matriz identidade\\n')\n",
    "f = np.eye(4) #Matriz 4x4 : obviamente sempre quadrada\n",
    "print(f)\n",
    "print('\\nFuncao cria array como matriz diagonal\\n')\n",
    "fa = np.diag(np.array([1,2,3,4])) #recebe como parametro uma array que será a diagonal. terá xlinhas dependendo len(x) do parametro\n",
    "print(fa)"
   ]
  },
  {
   "cell_type": "markdown",
   "metadata": {},
   "source": [
    "## Exercicios: \n",
    "    1. Criar uma matriz identidade 5x5\n",
    "    2. uma matriz 3x3 de uns\n",
    "    3. matriz 2x3 elementos aleatorios entre 0 e 20\n",
    "    4. criar um vetor [9,8,7,6,5,4,3,2,1]"
   ]
  },
  {
   "cell_type": "code",
   "execution_count": 50,
   "metadata": {},
   "outputs": [
    {
     "name": "stdout",
     "output_type": "stream",
     "text": [
      "[[0. 0. 0. 0. 0.]\n",
      " [0. 0. 0. 0. 0.]\n",
      " [0. 0. 0. 0. 0.]\n",
      " [0. 0. 0. 0. 0.]\n",
      " [0. 0. 0. 0. 0.]]\n",
      "\n",
      "[[1. 1. 1.]\n",
      " [1. 1. 1.]\n",
      " [1. 1. 1.]]\n",
      "\n",
      "[[ 2.51872703 19.68069452  6.25646909]\n",
      " [ 5.26008034  7.46421159  7.54778331]]\n",
      "\n",
      "[9 8 7 6 5 4 3 2 1]\n",
      "\n"
     ]
    }
   ],
   "source": [
    "def q1():\n",
    "    a = np.zeros((5,5))\n",
    "    print(str(a)+'\\n')\n",
    "q1()\n",
    "def q2():\n",
    "    a = np.ones((3,3))\n",
    "    print(str(a)+'\\n')\n",
    "q2()\n",
    "def q3():\n",
    "    a = 20*(np.random.rand(2,3))\n",
    "    print(str(a)+'\\n')\n",
    "q3()\n",
    "def q4():\n",
    "    a = np.arange(9,0,-1)\n",
    "    print(str(a)+'\\n')\n",
    "q4()"
   ]
  },
  {
   "cell_type": "markdown",
   "metadata": {},
   "source": [
    "## Indexação e cortes Array"
   ]
  },
  {
   "cell_type": "code",
   "execution_count": 13,
   "metadata": {},
   "outputs": [
    {
     "name": "stdout",
     "output_type": "stream",
     "text": [
      "[0 1 2 3 4 5 6 7 8 9]\n",
      "4\n",
      "9\n",
      "\n",
      "[[0.08277132 0.81098509 0.05839346]\n",
      " [0.25460495 0.55565221 0.05055638]\n",
      " [0.04220138 0.824637   0.02792376]]\n",
      "\n",
      "0.8109850876536892\n",
      "0.05055638182679545\n",
      "\n",
      "Alterando um elemento\n",
      "\n",
      "[[ 0.08277132 15.          0.05839346]\n",
      " [ 0.25460495  0.55565221  0.05055638]\n",
      " [ 0.04220138  0.824637    0.02792376]]\n"
     ]
    }
   ],
   "source": [
    "#Acessando as posições de uma array\n",
    "g = np.arange(10)\n",
    "print(g)\n",
    "print(g[4])\n",
    "print(str(g[-1])+'\\n')\n",
    "\n",
    "ga = np.random.rand(3,3)\n",
    "print(str(ga)+'\\n')\n",
    "print(ga[0][1])\n",
    "print(str(ga[1,2])+'\\n')\n",
    "\n",
    "print('Alterando um elemento\\n')\n",
    "ga[0][1] = 15\n",
    "print(ga)"
   ]
  },
  {
   "cell_type": "markdown",
   "metadata": {},
   "source": [
    "### Slices [inicio:fim do corte]   \n",
    "##### (atenção: o numero ao final será -1 pois contará o elemento 0 primeiro)"
   ]
  },
  {
   "cell_type": "code",
   "execution_count": 17,
   "metadata": {},
   "outputs": [
    {
     "data": {
      "text/plain": [
       "array([[ 0.08277132, 15.        ,  0.05839346],\n",
       "       [ 0.25460495,  0.55565221,  0.05055638]])"
      ]
     },
     "execution_count": 17,
     "metadata": {},
     "output_type": "execute_result"
    }
   ],
   "source": [
    "ga[0:2]"
   ]
  },
  {
   "cell_type": "code",
   "execution_count": 26,
   "metadata": {},
   "outputs": [
    {
     "name": "stdout",
     "output_type": "stream",
     "text": [
      "[[0.19204344 0.30852617 0.73817504 0.98595634 0.95246832]\n",
      " [0.95319212 0.51608017 0.92374023 0.01608988 0.51504618]\n",
      " [0.8267482  0.13551634 0.69657722 0.49322841 0.05347093]\n",
      " [0.35435932 0.02822622 0.88460981 0.20485309 0.83732605]\n",
      " [0.28474677 0.10345532 0.94947187 0.0132679  0.56436144]]\n",
      "\n",
      "[0.73817504 0.92374023]\n"
     ]
    }
   ],
   "source": [
    "gb = np.random.rand(5,5)\n",
    "print(str(gb)+'\\n')\n",
    "print(gb[:2, 2]) ## duas primeiras linhas (0 e 1) -->  pegue os elementos da coluna 2 (3° coluna)"
   ]
  },
  {
   "cell_type": "markdown",
   "metadata": {},
   "source": [
    "Exemplo: Recorte os elementos 3 e 4 da matriz:"
   ]
  },
  {
   "cell_type": "code",
   "execution_count": 52,
   "metadata": {},
   "outputs": [
    {
     "data": {
      "text/plain": [
       "array([[ 0,  1,  2,  3,  4,  5],\n",
       "       [ 6,  7,  8,  9, 10, 11],\n",
       "       [12, 13, 14, 15, 16, 17],\n",
       "       [18, 19, 20, 21, 22, 23]])"
      ]
     },
     "execution_count": 52,
     "metadata": {},
     "output_type": "execute_result"
    }
   ],
   "source": [
    "matrix = np.array([[0,1,2,3,4,5],[6,7,8,9,10,11],[12,13,14,15,16,17],[18,19,20,21,22,23]])\n",
    "matrix"
   ]
  },
  {
   "cell_type": "code",
   "execution_count": 51,
   "metadata": {},
   "outputs": [
    {
     "data": {
      "text/plain": [
       "array([ 0, 12])"
      ]
     },
     "execution_count": 51,
     "metadata": {},
     "output_type": "execute_result"
    }
   ],
   "source": [
    "matrix[0,3:5]\n",
    "##Alterando passo do slice\n",
    "matrix[:4:2,0]"
   ]
  },
  {
   "cell_type": "markdown",
   "metadata": {},
   "source": [
    "### Trabalhando com imagens"
   ]
  },
  {
   "cell_type": "code",
   "execution_count": 60,
   "metadata": {},
   "outputs": [
    {
     "name": "stdout",
     "output_type": "stream",
     "text": [
      "(320, 607, 4)\n"
     ]
    },
    {
     "data": {
      "image/png": "[encoded data removed]",
      "text/plain": [
       "<Figure size 432x288 with 1 Axes>"
      ]
     },
     "metadata": {
      "needs_background": "light"
     },
     "output_type": "display_data"
    }
   ],
   "source": [
    "from skimage import io\n",
    "import matplotlib.pyplot as plt\n",
    "\n",
    "img = io.imread('UFRJ-VALONGO.png')  #carregamento imagem\n",
    "plt.imshow(img) #exibição da imagem\n",
    "#os pixels da imagem estao salvas na array\n",
    "#print(img)\n",
    "print(img.shape) #quantos pixels ele tem e seus canais rgb (vermelho, verde e azul)"
   ]
  },
  {
   "cell_type": "code",
   "execution_count": 61,
   "metadata": {},
   "outputs": [
    {
     "data": {
      "text/plain": [
       "<matplotlib.image.AxesImage at 0x7f7b504f8940>"
      ]
     },
     "execution_count": 61,
     "metadata": {},
     "output_type": "execute_result"
    },
    {
     "data": {
      "image/png": "[encoded data removed]",
      "text/plain": [
       "<Figure size 432x288 with 1 Axes>"
      ]
     },
     "metadata": {
      "needs_background": "light"
     },
     "output_type": "display_data"
    }
   ],
   "source": [
    "#Slice da imagem\n",
    "imag = img[:300,:270] #recortando logo ufrj\n",
    "plt.imshow(imag)"
   ]
  },
  {
   "cell_type": "markdown",
   "metadata": {},
   "source": [
    "## Operações Array Numpy"
   ]
  },
  {
   "cell_type": "markdown",
   "metadata": {},
   "source": [
    "#### Com escalares"
   ]
  },
  {
   "cell_type": "code",
   "execution_count": 83,
   "metadata": {},
   "outputs": [
    {
     "name": "stdout",
     "output_type": "stream",
     "text": [
      "[12  6  8  4  6 11 10  5]\n",
      "\n",
      "[10  4  6  2  4  9  8  3]\n",
      "[144  36  64  16  36 121 100  25]\n"
     ]
    }
   ],
   "source": [
    "np.random.seed(32) #fixa os mesmos numeros aleatorios da primeira run --> parametro escolhe o conjunto de aleatorios\n",
    "a1=np.random.randint(1,20,8) #elementos aleatorios e inteiros (inicio, fim, quantos elementos)\n",
    "print (str(a1)+'\\n')\n",
    "print (a1-2) #operações matematicas ocorrem em todos os elementos\n",
    "print(a1**2)"
   ]
  },
  {
   "cell_type": "markdown",
   "metadata": {},
   "source": [
    " ##### Somando arrays, há soma de elemento a elemento. Tente!"
   ]
  },
  {
   "cell_type": "markdown",
   "metadata": {},
   "source": [
    "Só funciona em arrays com mesma quantidade de elementos"
   ]
  },
  {
   "cell_type": "markdown",
   "metadata": {},
   "source": [
    " Não confundir com operações entre matrizes!"
   ]
  },
  {
   "cell_type": "code",
   "execution_count": 85,
   "metadata": {},
   "outputs": [
    {
     "name": "stdout",
     "output_type": "stream",
     "text": [
      "[6 6 6 6 5]\n",
      "\n",
      "[5 3 6 4 2]\n",
      "\n",
      "[11  9 12 10  7]\n",
      "[30 18 36 24 10]\n"
     ]
    }
   ],
   "source": [
    "np.random.seed(30)\n",
    "b1 = np.random.randint(1,8,5)\n",
    "b2 = np.random.randint(1,8,5)\n",
    "print(str(b1)+'\\n')\n",
    "print(str(b2)+'\\n')\n",
    "print (b1+b2)\n",
    "print (b1*b2)"
   ]
  },
  {
   "cell_type": "code",
   "execution_count": 86,
   "metadata": {},
   "outputs": [
    {
     "name": "stdout",
     "output_type": "stream",
     "text": [
      "[[3 4 2]\n",
      " [4 4 2]\n",
      " [2 2 2]]\n",
      "\n",
      "[[4 3 3]\n",
      " [1 1 3]\n",
      " [1 1 3]]\n",
      "\n",
      "[[12 12  6]\n",
      " [ 4  4  6]\n",
      " [ 2  2  6]]\n"
     ]
    }
   ],
   "source": [
    "# Op matrizes --> (3,2) x (2,3) = (3,3) || (3,3) x (3,3) = (3,3)\n",
    "m1=np.random.randint(1,5,(3,3))\n",
    "m2 = np.random.randint(1,5,(3,3))\n",
    "print(str(m1)+'\\n')\n",
    "print(str(m2)+'\\n')\n",
    "print(m1*m2) #equivocada, elemento por elemento\n"
   ]
  },
  {
   "cell_type": "code",
   "execution_count": 96,
   "metadata": {},
   "outputs": [
    {
     "name": "stdout",
     "output_type": "stream",
     "text": [
      "[[18 15 27]\n",
      " [22 18 30]\n",
      " [12 10 18]]\n",
      "\n",
      "\n",
      "[27 30 18]\n"
     ]
    }
   ],
   "source": [
    "r = m1.dot(m2) #multiplicação de matrizes correta\n",
    "print(r)\n",
    "print('\\n')\n",
    "print(r[:,2])"
   ]
  },
  {
   "cell_type": "code",
   "execution_count": 91,
   "metadata": {},
   "outputs": [
    {
     "name": "stdout",
     "output_type": "stream",
     "text": [
      "[[1. 1.]\n",
      " [1. 1.]\n",
      " [1. 1.]]\n",
      "\n",
      "[[2. 2. 2.]\n",
      " [2. 2. 2.]]\n",
      "\n"
     ]
    },
    {
     "data": {
      "text/plain": [
       "array([[4., 4., 4.],\n",
       "       [4., 4., 4.],\n",
       "       [4., 4., 4.]])"
      ]
     },
     "execution_count": 91,
     "metadata": {},
     "output_type": "execute_result"
    }
   ],
   "source": [
    "n1 = np.ones((3,2))\n",
    "n2 = 2*(np.ones((2,3)))\n",
    "print(str(n1)+'\\n')\n",
    "print(str(n2)+'\\n')\n",
    "n1.dot(n2)"
   ]
  },
  {
   "cell_type": "markdown",
   "metadata": {},
   "source": [
    "### Comparações de arrays"
   ]
  },
  {
   "cell_type": "code",
   "execution_count": 3,
   "metadata": {},
   "outputs": [
    {
     "data": {
      "text/plain": [
       "array([False, False, False, False])"
      ]
     },
     "execution_count": 3,
     "metadata": {},
     "output_type": "execute_result"
    }
   ],
   "source": [
    "c1 = np.array([1,2,3,4])\n",
    "c2 = np.array([2,3,4,5])\n",
    "c1 == c2"
   ]
  },
  {
   "cell_type": "code",
   "execution_count": 98,
   "metadata": {},
   "outputs": [
    {
     "data": {
      "text/plain": [
       "False"
      ]
     },
     "execution_count": 98,
     "metadata": {},
     "output_type": "execute_result"
    }
   ],
   "source": [
    "np.array_equal(c1,c2)"
   ]
  },
  {
   "cell_type": "code",
   "execution_count": 99,
   "metadata": {},
   "outputs": [
    {
     "data": {
      "text/plain": [
       "10"
      ]
     },
     "execution_count": 99,
     "metadata": {},
     "output_type": "execute_result"
    }
   ],
   "source": [
    "np.sum(c1) ## operações matematicas em numpy"
   ]
  },
  {
   "cell_type": "code",
   "execution_count": 100,
   "metadata": {},
   "outputs": [
    {
     "data": {
      "text/plain": [
       "1.25"
      ]
     },
     "execution_count": 100,
     "metadata": {},
     "output_type": "execute_result"
    }
   ],
   "source": [
    "np.var(c2) ##variança"
   ]
  },
  {
   "cell_type": "code",
   "execution_count": 101,
   "metadata": {},
   "outputs": [
    {
     "data": {
      "text/plain": [
       "2.5"
      ]
     },
     "execution_count": 101,
     "metadata": {},
     "output_type": "execute_result"
    }
   ],
   "source": [
    "np.mean(c1) #media"
   ]
  },
  {
   "cell_type": "code",
   "execution_count": 4,
   "metadata": {},
   "outputs": [
    {
     "data": {
      "text/plain": [
       "1.118033988749895"
      ]
     },
     "execution_count": 4,
     "metadata": {},
     "output_type": "execute_result"
    }
   ],
   "source": [
    "np.std(c2) #desviopadrao"
   ]
  },
  {
   "cell_type": "code",
   "execution_count": 14,
   "metadata": {},
   "outputs": [
    {
     "name": "stdout",
     "output_type": "stream",
     "text": [
      "[0 6]\n",
      "[1 5]\n"
     ]
    }
   ],
   "source": [
    "print(np.sum([[0, 1], [0, 5]], axis=0)) #resultado da soma de cada coluna\n",
    "\n",
    "print(np.sum([[0, 1], [0, 5]], axis=1)) #soma cada linha \n",
    "#nao especificar o axis faz com q a soma seja entre todos os elementos"
   ]
  },
  {
   "cell_type": "markdown",
   "metadata": {},
   "source": [
    "## Métodos importantes e Máscaras"
   ]
  },
  {
   "cell_type": "code",
   "execution_count": 15,
   "metadata": {},
   "outputs": [],
   "source": [
    "aha = np.random.randn(10)"
   ]
  },
  {
   "cell_type": "code",
   "execution_count": 16,
   "metadata": {},
   "outputs": [
    {
     "data": {
      "text/plain": [
       "array([-0.74141372, -0.56190392, -0.53816272, -0.67717087, -2.01521933,\n",
       "        1.26783401,  0.2545696 ,  0.75277246,  0.35440317,  1.54740262])"
      ]
     },
     "execution_count": 16,
     "metadata": {},
     "output_type": "execute_result"
    }
   ],
   "source": [
    "aha"
   ]
  },
  {
   "cell_type": "code",
   "execution_count": 17,
   "metadata": {},
   "outputs": [
    {
     "data": {
      "text/plain": [
       "array([[-0.10395204, -0.01207054,  0.23222748],\n",
       "       [ 0.77651617,  0.81561315, -0.04656414],\n",
       "       [ 0.12511523,  0.73257249, -0.82922848]])"
      ]
     },
     "execution_count": 17,
     "metadata": {},
     "output_type": "execute_result"
    }
   ],
   "source": [
    "mtx = np.random.randn(3,3)\n",
    "mtx"
   ]
  },
  {
   "cell_type": "code",
   "execution_count": 21,
   "metadata": {},
   "outputs": [
    {
     "data": {
      "text/plain": [
       "array([ 0,  0,  0,  0, -2,  1,  0,  0,  0,  1])"
      ]
     },
     "execution_count": 21,
     "metadata": {},
     "output_type": "execute_result"
    }
   ],
   "source": [
    "mtx.ndim #dimensao\n",
    "mtx.shape #forma\n",
    "mtx.dtype # tipo da variavel\n",
    "aha.astype('int') #mudar tipo da variavel"
   ]
  },
  {
   "cell_type": "code",
   "execution_count": 26,
   "metadata": {},
   "outputs": [
    {
     "data": {
      "text/plain": [
       "array([ 0,  1,  2,  3,  4,  5,  6,  7,  8,  9, 10, 11, 12, 13, 14, 15, 16,\n",
       "       17, 18, 19, 20, 21, 22, 23, 24, 25, 26, 27, 28, 29, 30, 31, 32, 33,\n",
       "       34, 35, 36, 37, 38, 39, 40, 41, 42, 43, 44, 45, 46, 47, 48, 49, 50,\n",
       "       51, 52, 53, 54, 55])"
      ]
     },
     "execution_count": 26,
     "metadata": {},
     "output_type": "execute_result"
    }
   ],
   "source": [
    "aaa = np.linspace(0,55,56)\n",
    "aaa.astype('int')"
   ]
  },
  {
   "cell_type": "code",
   "execution_count": 28,
   "metadata": {},
   "outputs": [
    {
     "data": {
      "text/plain": [
       "array([[False, False, False],\n",
       "       [False, False, False],\n",
       "       [False, False, False]])"
      ]
     },
     "execution_count": 28,
     "metadata": {},
     "output_type": "execute_result"
    }
   ],
   "source": [
    "mtx.astype('bool') #tudo diferente de 0 true\n",
    "x = mtx.astype('int')\n",
    "x.astype('bool')  #arredondando, ficam zeros. False"
   ]
  },
  {
   "cell_type": "code",
   "execution_count": 29,
   "metadata": {},
   "outputs": [
    {
     "data": {
      "text/plain": [
       "4"
      ]
     },
     "execution_count": 29,
     "metadata": {},
     "output_type": "execute_result"
    }
   ],
   "source": [
    "mtx.argmax() #indice onde esta o maior argumento"
   ]
  },
  {
   "cell_type": "code",
   "execution_count": 31,
   "metadata": {},
   "outputs": [
    {
     "data": {
      "text/plain": [
       "(5,)"
      ]
     },
     "execution_count": 31,
     "metadata": {},
     "output_type": "execute_result"
    }
   ],
   "source": [
    "mh = np.array([5,10,15,20,25])\n",
    "mh.shape"
   ]
  },
  {
   "cell_type": "code",
   "execution_count": 32,
   "metadata": {},
   "outputs": [
    {
     "data": {
      "text/plain": [
       "[1, 2, 3, 4]"
      ]
     },
     "execution_count": 32,
     "metadata": {},
     "output_type": "execute_result"
    }
   ],
   "source": [
    "l = [1,2,3,4]\n",
    "l"
   ]
  },
  {
   "cell_type": "code",
   "execution_count": 36,
   "metadata": {},
   "outputs": [
    {
     "data": {
      "text/plain": [
       "array([[-0.10395204,  0.77651617,  0.12511523],\n",
       "       [-0.01207054,  0.81561315,  0.73257249],\n",
       "       [ 0.23222748, -0.04656414, -0.82922848]])"
      ]
     },
     "execution_count": 36,
     "metadata": {},
     "output_type": "execute_result"
    }
   ],
   "source": [
    "#transposta\n",
    "mtx.T"
   ]
  },
  {
   "cell_type": "markdown",
   "metadata": {},
   "source": [
    "##### Mascara  (array de booleanos, diz quais posições uteis)"
   ]
  },
  {
   "cell_type": "code",
   "execution_count": 37,
   "metadata": {},
   "outputs": [],
   "source": [
    "bk = np.array([1,2,3,4,5])"
   ]
  },
  {
   "cell_type": "code",
   "execution_count": 38,
   "metadata": {},
   "outputs": [
    {
     "data": {
      "text/plain": [
       "array([2, 5])"
      ]
     },
     "execution_count": 38,
     "metadata": {},
     "output_type": "execute_result"
    }
   ],
   "source": [
    "#Modo de selecionar os elementos. podemos 'recortar' usando uma lista booleana\n",
    "bk[[False,True,False,False,True]] #elementos 2 e 5"
   ]
  },
  {
   "cell_type": "code",
   "execution_count": 40,
   "metadata": {},
   "outputs": [
    {
     "data": {
      "text/plain": [
       "array([False, False,  True,  True,  True])"
      ]
     },
     "execution_count": 40,
     "metadata": {},
     "output_type": "execute_result"
    }
   ],
   "source": [
    "#Outra forma de mascara.  Digamos que se queira os elementos maiores que 2\n",
    "bk > 2 #resulta numa array mascara exatamente c oq queremos"
   ]
  },
  {
   "cell_type": "code",
   "execution_count": 42,
   "metadata": {},
   "outputs": [
    {
     "data": {
      "text/plain": [
       "array([2, 4])"
      ]
     },
     "execution_count": 42,
     "metadata": {},
     "output_type": "execute_result"
    }
   ],
   "source": [
    "#podemos utilizar isso como indice:\n",
    "bk[bk>=3] #Elementos maiores ou iguais a 3\n",
    "bk[bk%2==0] #Elementos pares"
   ]
  },
  {
   "cell_type": "code",
   "execution_count": null,
   "metadata": {},
   "outputs": [],
   "source": []
  }
 ],
 "metadata": {
  "kernelspec": {
   "display_name": "Python 3",
   "language": "python",
   "name": "python3"
  },
  "language_info": {
   "codemirror_mode": {
    "name": "ipython",
    "version": 3
   },
   "file_extension": ".py",
   "mimetype": "text/x-python",
   "name": "python",
   "nbconvert_exporter": "python",
   "pygments_lexer": "ipython3",
   "version": "3.8.3"
  }
 },
 "nbformat": 4,
 "nbformat_minor": 4
}
